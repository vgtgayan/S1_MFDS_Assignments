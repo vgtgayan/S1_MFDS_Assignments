{
 "cells": [
  {
   "cell_type": "markdown",
   "metadata": {},
   "source": [
    "Q1) Gram-Schmidt Algorithm and QR decomposition"
   ]
  },
  {
   "cell_type": "markdown",
   "metadata": {},
   "source": [
    "#### i) \n",
    "Write a code to generate a random matrix A of size m × n with m > n\n",
    "and calculate its Frobenius norm, ∥ · ∥F . The entries of A must be of\n",
    "the form r.dddd (example 5.4316). The inputs are the positive integers\n",
    "m and n and the output should display the the dimensions and the\n",
    "calculated norm value."
   ]
  },
  {
   "cell_type": "code",
   "execution_count": 1,
   "metadata": {},
   "outputs": [],
   "source": [
    "import numpy as np"
   ]
  },
  {
   "cell_type": "code",
   "execution_count": 2,
   "metadata": {},
   "outputs": [],
   "source": [
    "def generate_random_matrix(m,n):\n",
    "    if m > n:\n",
    "        rand_gen = np.random.default_rng()\n",
    "        return np.round_(rand_gen.uniform(low=0, high=10, size=(m,n)),4)\n",
    "    else:\n",
    "        print(\"Error: No: of rows are lesser than no: of columns\")\n",
    "        print(f\"Given values: rows = {m}, columns = {n}\")\n",
    "        raise ValueError"
   ]
  },
  {
   "cell_type": "code",
   "execution_count": 19,
   "metadata": {},
   "outputs": [
    {
     "data": {
      "text/plain": [
       "array([[0.6423, 1.5334, 0.9052, 8.0401, 9.4426],\n",
       "       [8.9021, 4.8879, 6.1143, 6.3478, 6.1072],\n",
       "       [2.7767, 9.1056, 5.9162, 0.5899, 4.4077],\n",
       "       [5.762 , 0.5416, 5.2428, 8.0668, 6.7741],\n",
       "       [1.037 , 5.7801, 3.1005, 4.3933, 4.9783],\n",
       "       [7.6379, 6.4158, 8.9189, 0.3476, 8.2948],\n",
       "       [5.9115, 7.3383, 7.1538, 4.7171, 5.0529]])"
      ]
     },
     "execution_count": 19,
     "metadata": {},
     "output_type": "execute_result"
    }
   ],
   "source": [
    "rand_matrix = generate_random_matrix(7,5)\n",
    "rand_matrix"
   ]
  },
  {
   "cell_type": "code",
   "execution_count": 4,
   "metadata": {},
   "outputs": [],
   "source": [
    "def frobenius_norm(matrix):\n",
    "    m,n = matrix.shape\n",
    "    square_sum = 0\n",
    "    for i in range(m):\n",
    "        for j in range(n):\n",
    "            square_sum += matrix[i][j]**2\n",
    "\n",
    "    return round(np.sqrt(square_sum),4)"
   ]
  },
  {
   "cell_type": "code",
   "execution_count": 5,
   "metadata": {},
   "outputs": [
    {
     "data": {
      "text/plain": [
       "30.9298"
      ]
     },
     "execution_count": 5,
     "metadata": {},
     "output_type": "execute_result"
    }
   ],
   "source": [
    "frobenius_norm(rand_matrix)"
   ]
  },
  {
   "cell_type": "code",
   "execution_count": 6,
   "metadata": {},
   "outputs": [],
   "source": [
    "def main_Q1_i():\n",
    "    try:\n",
    "        print(\"Condition: No: of rows should be greater than no: of columns\")\n",
    "        m = int(input(\"Enter no: of rows:\"))\n",
    "        n = int(input(\"Enter no: of columns:\"))\n",
    "\n",
    "        # Generate random matrix\n",
    "        rand_matrix = generate_random_matrix(m,n)\n",
    "        print(f\"Dimensions of the generated matrix: {rand_matrix.shape}\")\n",
    "\n",
    "        # Calculate frobenius norm\n",
    "        f_norm = frobenius_norm(rand_matrix)\n",
    "        print(\"Frobenius norm: \", f_norm)\n",
    "    except ValueError:\n",
    "        print(\"Invalid Input !!!\")"
   ]
  },
  {
   "cell_type": "code",
   "execution_count": 7,
   "metadata": {},
   "outputs": [
    {
     "name": "stdout",
     "output_type": "stream",
     "text": [
      "Condition: No: of rows should be greater than no: of columns\n",
      "Dimensions of the generated matrix: (7, 5)\n",
      "Frobenius norm:  35.3884\n"
     ]
    }
   ],
   "source": [
    "main_Q1_i()"
   ]
  },
  {
   "cell_type": "markdown",
   "metadata": {},
   "source": [
    "#### ii) \n",
    "Write a code to decide if Gram-Schmidt Algorithm can be applied to\n",
    "columns of a given matrix A through calculation of rank. The code\n",
    "should print appropriate messages indicating whether Gram-Schmidt is\n",
    "applicable on columns of the matrix or not."
   ]
  },
  {
   "cell_type": "code",
   "execution_count": 6,
   "metadata": {},
   "outputs": [],
   "source": [
    "def gauss_ellimination(_A,pivot_enable=True):\n",
    "    A = _A.copy()\n",
    "    rows , cols = A.shape\n",
    "    add_count = 0\n",
    "    mul_count = 0\n",
    "    div_count = 0\n",
    "\n",
    "    ## Forward ellimination process -------------------\n",
    "    # Do below for each row    \n",
    "    for row in range(rows):\n",
    "        # Break if current row index is greater than total columns\n",
    "        if row >= cols:\n",
    "            break\n",
    "        # Partial pivotting (if enabled)\n",
    "        if pivot_enable:\n",
    "            # Current pivot value\n",
    "            max_pivot = abs(A[row][row])\n",
    "            max_pivot_index = row\n",
    "            # Iterate through pivot column to find the maximum pivot value\n",
    "            for i in range(row+1,rows):\n",
    "                if max_pivot < abs(A[i][row]):\n",
    "                    max_pivot = abs(A[i][row])\n",
    "                    max_pivot_index = i\n",
    "            \n",
    "            # Do partial pivotting\n",
    "            if row < max_pivot_index:\n",
    "                A[row],A[max_pivot_index] = A[max_pivot_index],A[row]\n",
    "            \n",
    "        else:\n",
    "            if A[row][row] == 0:\n",
    "                print(\"Pivot value is zero. Please enable partial pivotting to do the calculations...\")\n",
    "                return 0\n",
    "\n",
    "        ## Apply Row transformation for all the rows below current row\n",
    "        pivot_element = A[row][row]\n",
    "        for row2 in range(row+1, rows):\n",
    "            # Interested element: The element that we set to zero\n",
    "            interested_element = A[row2][row]\n",
    "\n",
    "            # Check if interested element if zero and skip\n",
    "            if interested_element == 0:\n",
    "                continue\n",
    "\n",
    "            # Calculate the row multiple value\n",
    "            row_multiple = interested_element/pivot_element\n",
    "            div_count += 1\n",
    "            # Update the interested element to zero\n",
    "            A[row2][row] = 0\n",
    "\n",
    "            # Iterated through other columns to update the rest of the values in row\n",
    "            for col in range(row+1, cols):\n",
    "                tmp = A[row2][col] - row_multiple*A[row][col]\n",
    "                A[row2][col]= tmp\n",
    "                mul_count += 1\n",
    "                add_count += 1\n",
    "    ## End of Forward ellimination process -------------------\n",
    "        \n",
    "    return A"
   ]
  },
  {
   "cell_type": "code",
   "execution_count": 7,
   "metadata": {},
   "outputs": [
    {
     "data": {
      "text/plain": [
       "array([[ 9.0927    ,  9.4395    ,  9.4211    ,  3.6637    ,  4.6636    ],\n",
       "       [ 0.        , -7.94326452, -9.14374391, -2.32104645, -0.89019518],\n",
       "       [ 0.        ,  0.        , -7.16202592, -0.71420952,  4.86972152],\n",
       "       [ 0.        ,  0.        ,  0.        , -1.94551182,  0.58940266],\n",
       "       [ 0.        ,  0.        ,  0.        ,  0.        ,  0.        ],\n",
       "       [ 0.        ,  0.        ,  0.        ,  0.        ,  0.        ],\n",
       "       [ 0.        ,  0.        ,  0.        ,  0.        ,  0.        ]])"
      ]
     },
     "execution_count": 7,
     "metadata": {},
     "output_type": "execute_result"
    }
   ],
   "source": [
    "ref_A = gauss_ellimination(rand_matrix)\n",
    "ref_A"
   ]
  },
  {
   "cell_type": "code",
   "execution_count": 8,
   "metadata": {},
   "outputs": [],
   "source": [
    "def get_rank(_A):\n",
    "    A = _A.copy()\n",
    "    A = gauss_ellimination(A)\n",
    "    rows, cols = A.shape\n",
    "    rank = min(rows, cols)\n",
    "    for row in range(rows):\n",
    "        # Break if current row index is greater than total columns\n",
    "        if row >= cols:\n",
    "            break\n",
    "        # Deduct no of zero rows from rank\n",
    "        if sum(A[row]) == 0:\n",
    "            rank -= 1\n",
    "    return rank    "
   ]
  },
  {
   "cell_type": "code",
   "execution_count": 9,
   "metadata": {},
   "outputs": [
    {
     "data": {
      "text/plain": [
       "4"
      ]
     },
     "execution_count": 9,
     "metadata": {},
     "output_type": "execute_result"
    }
   ],
   "source": [
    "get_rank(rand_matrix)"
   ]
  },
  {
   "cell_type": "code",
   "execution_count": 10,
   "metadata": {},
   "outputs": [],
   "source": [
    "def is_gram_schmidt_applicable(matrix):\n",
    "    rank = get_rank(matrix)\n",
    "    rows,cols = matrix.shape\n",
    "    print(f\"Rank = {rank}, Columns = {cols}\")\n",
    "    # Check if no: columns equal to the rank\n",
    "    if rank == cols:\n",
    "        print(\"Columns of the marix are Linearly Independant\")\n",
    "        print(\"Gram-Schmidt Algorithm can be applied\")\n",
    "        return True\n",
    "    else:\n",
    "        print(\"Columns of the marix are Linearly dependant\")\n",
    "        print(\"Gram-Schmidt Algorithm cannot be applied\")\n",
    "        return False\n"
   ]
  },
  {
   "cell_type": "code",
   "execution_count": 20,
   "metadata": {},
   "outputs": [
    {
     "name": "stdout",
     "output_type": "stream",
     "text": [
      "Rank = 5, Columns = 5\n",
      "Columns of the marix are Linearly Independant\n",
      "Gram-Schmidt Algorithm can be applied\n"
     ]
    },
    {
     "data": {
      "text/plain": [
       "True"
      ]
     },
     "execution_count": 20,
     "metadata": {},
     "output_type": "execute_result"
    }
   ],
   "source": [
    "is_gram_schmidt_applicable(rand_matrix)"
   ]
  },
  {
   "cell_type": "markdown",
   "metadata": {},
   "source": [
    "#### iii) \n",
    "Write a code to generate the orthogonal matrix Q from a matrix A\n",
    "by performing the Gram-Schmidt orthogonalization method. Ensure\n",
    "that A has linearly independent columns by checking the rank. Keep\n",
    "generating A until the linear independence is obtained."
   ]
  },
  {
   "cell_type": "code",
   "execution_count": 12,
   "metadata": {},
   "outputs": [],
   "source": [
    "def _dot_product(a,b):\n",
    "    # Check for compatibility\n",
    "    if a.shape != b.shape:\n",
    "        print(\"Given vectors have different dimensions. Hence dot product not applicable\")\n",
    "        return None\n",
    "    \n",
    "    r = len(a)\n",
    "    sum = 0\n",
    "    for i in range(r):\n",
    "        sum += a[i]*b[i]\n",
    "\n",
    "    return round(sum, 4)"
   ]
  },
  {
   "cell_type": "code",
   "execution_count": 13,
   "metadata": {},
   "outputs": [],
   "source": [
    "def generate_orthogonal_matrix(matrix):\n",
    "    # Check if Gram-Schmidt Algorithm can be applied to columns of the given matrix\n",
    "    # ie: Columns are LI\n",
    "    if not is_gram_schmidt_applicable(matrix):\n",
    "        return None\n",
    "    \n",
    "    rows, cols = matrix.shape\n",
    "    # Initialize orthogonal_matrix\n",
    "    Q = np.zeros((rows, cols))\n",
    "    # print(matrix)\n",
    "    # Apply Gram-Schmidt orthogonalization on each column vector\n",
    "    for i in range(cols):\n",
    "        # ith column of input matrix\n",
    "        x = matrix[:,i].copy()\n",
    "        # print(x)\n",
    "\n",
    "        # Calculate ith column of Q\n",
    "        v = x.copy()\n",
    "        for j in range(i-1, -1, -1):\n",
    "            # jth column of Q\n",
    "            v_j = Q[:,j].copy()\n",
    "\n",
    "            x_dot_v = _dot_product(x,v_j)\n",
    "            v_dot_v = _dot_product(v_j,v_j)\n",
    "            \n",
    "            v -= (x_dot_v/v_dot_v)*v_j\n",
    "        \n",
    "        # Normalize v\n",
    "        v = v/np.sqrt(_dot_product(v,v))\n",
    "\n",
    "        # Update ith column in Q\n",
    "        Q[:,i] = np.round_(v, 4)\n",
    "        \n",
    "    return Q"
   ]
  },
  {
   "cell_type": "code",
   "execution_count": 16,
   "metadata": {},
   "outputs": [
    {
     "name": "stdout",
     "output_type": "stream",
     "text": [
      "Rank = 4, Columns = 5\n",
      "Columns of the marix are Linearly dependant\n",
      "Gram-Schmidt Algorithm cannot be applied\n"
     ]
    }
   ],
   "source": [
    "generate_orthogonal_matrix(rand_matrix)"
   ]
  },
  {
   "cell_type": "code",
   "execution_count": 17,
   "metadata": {},
   "outputs": [],
   "source": [
    "def main_Q1_iii():\n",
    "    try:\n",
    "        A = generate_random_matrix(7,5)\n",
    "        # Keep generating A until the linear independence is obtained.\n",
    "        while not is_gram_schmidt_applicable(A):\n",
    "            A = generate_random_matrix(7,5)\n",
    "        \n",
    "        Q = generate_orthogonal_matrix(A)\n",
    "        print(\"A: \\n\", A)\n",
    "        print(\"Orthogonal matrix Q: \\n\", Q)\n",
    "\n",
    "    except Exception as e:\n",
    "        print(e)"
   ]
  },
  {
   "cell_type": "code",
   "execution_count": 18,
   "metadata": {},
   "outputs": [
    {
     "name": "stdout",
     "output_type": "stream",
     "text": [
      "Rank = 4, Columns = 5\n",
      "Columns of the marix are Linearly dependant\n",
      "Gram-Schmidt Algorithm cannot be applied\n",
      "Rank = 5, Columns = 5\n",
      "Columns of the marix are Linearly Independant\n",
      "Gram-Schmidt Algorithm can be applied\n",
      "Rank = 5, Columns = 5\n",
      "Columns of the marix are Linearly Independant\n",
      "Gram-Schmidt Algorithm can be applied\n",
      "A: \n",
      " [[ 8.5419      2.65166667 -4.81908365  1.58279229 -0.60255141]\n",
      " [ 8.7775     -0.79304545 -2.48019082 -0.53001549 -0.02286998]\n",
      " [ 5.889      -2.91044848  6.31665691 -1.88894196 -1.07871874]\n",
      " [ 6.2589      3.00803333  3.84651058 -4.2489002   1.07842197]\n",
      " [ 6.0485     -4.33980606 -1.74497858  1.9629225   0.87199594]\n",
      " [ 1.6981      1.93426364  6.05146023  6.35207885  0.62609228]\n",
      " [ 5.962       0.44134848 -0.03510594  0.70319287 -0.65351835]]\n",
      "Orthogonal matrix Q: \n",
      " [[ 0.0286  0.0553 -0.0389  0.0229 -0.1411]\n",
      " [ 0.0294 -0.0165 -0.02   -0.0077 -0.0054]\n",
      " [ 0.0197 -0.0607  0.051  -0.0273 -0.2526]\n",
      " [ 0.0209  0.0627  0.0311 -0.0615  0.2526]\n",
      " [ 0.0202 -0.0905 -0.0141  0.0284  0.2042]\n",
      " [ 0.0057  0.0403  0.0489  0.0919  0.1466]\n",
      " [ 0.0199  0.0092 -0.0003  0.0102 -0.1531]]\n"
     ]
    }
   ],
   "source": [
    "main_Q1_iii()"
   ]
  },
  {
   "cell_type": "markdown",
   "metadata": {},
   "source": [
    "#### iv) \n",
    "Write a code to create a QR decomposition of the matrix A by utilizing\n",
    "the code developed in the previous sub-parts of this question. Find the\n",
    "matrices Q and R and then display the value ∥A − (Q.R)∥F , where\n",
    "∥ · ∥F is the Frobenius norm. The code should also display the total\n",
    "number of additions, multiplications and divisions to find the result."
   ]
  },
  {
   "cell_type": "code",
   "execution_count": 14,
   "metadata": {},
   "outputs": [],
   "source": [
    "# Perform AxB matrix multiplication\n",
    "def matrix_multiplication(A,B):\n",
    "    rA, cA = A.shape\n",
    "    rB, cB = B.shape\n",
    "    # Check condition for matrix multiplication\n",
    "    if cA != rB:\n",
    "        print(\"Matrices are not compatible to perform multiplication\")\n",
    "        return None\n",
    "        \n",
    "    # Initialize resultant matrix\n",
    "    C = np.zeros((rA,cB))\n",
    "    # Multilplication\n",
    "    for row in range(rA):\n",
    "        for col in range(cB):\n",
    "            # Sum of product\n",
    "            sop = 0\n",
    "            for i in range(cA):\n",
    "                sop += A[row,i]*B[i,col]\n",
    "            C[row,col] = sop\n",
    "\n",
    "    return C\n",
    "\n"
   ]
  },
  {
   "cell_type": "code",
   "execution_count": 65,
   "metadata": {},
   "outputs": [
    {
     "name": "stdout",
     "output_type": "stream",
     "text": [
      "tmp1: \n",
      " [[2 0]\n",
      " [0 2]] \n",
      " tmp2: \n",
      " [[1 2]\n",
      " [3 4]]\n",
      "[[2. 4.]\n",
      " [6. 8.]]\n"
     ]
    }
   ],
   "source": [
    "tmp1 = np.diag((2,2))\n",
    "tmp2 = np.array([[1,2],[3,4]])\n",
    "print(f\"tmp1: \\n {tmp1} \\n tmp2: \\n {tmp2}\")\n",
    "print(matrix_multiplication(tmp1,tmp2))"
   ]
  },
  {
   "cell_type": "code",
   "execution_count": 15,
   "metadata": {},
   "outputs": [],
   "source": [
    "def matrix_transpose(A):\n",
    "    r, c = A.shape\n",
    "    # Initialize transpose\n",
    "    A_transpose = np.zeros((c,r))\n",
    "    for row in range(r):\n",
    "        for col in range(c):\n",
    "            A_transpose[col,row] = A[row,col]\n",
    "\n",
    "    return A_transpose\n"
   ]
  },
  {
   "cell_type": "code",
   "execution_count": 66,
   "metadata": {},
   "outputs": [
    {
     "data": {
      "text/plain": [
       "array([[1., 3.],\n",
       "       [2., 4.]])"
      ]
     },
     "execution_count": 66,
     "metadata": {},
     "output_type": "execute_result"
    }
   ],
   "source": [
    "matrix_transpose(tmp2)"
   ]
  },
  {
   "cell_type": "code",
   "execution_count": 21,
   "metadata": {},
   "outputs": [
    {
     "data": {
      "text/plain": [
       "array([[3.8696, 9.1424, 4.6148, 9.5413, 1.2443, 4.2419, 9.7607],\n",
       "       [1.9022, 5.0495, 7.4663, 0.1768, 5.8562, 8.676 , 3.5379],\n",
       "       [0.0149, 9.737 , 7.4578, 6.5199, 8.4375, 9.242 , 3.787 ],\n",
       "       [5.1302, 8.6242, 7.1714, 9.4123, 1.679 , 8.3484, 3.719 ],\n",
       "       [7.7315, 1.7377, 0.9818, 5.5296, 6.1969, 3.4161, 9.1469]])"
      ]
     },
     "execution_count": 21,
     "metadata": {},
     "output_type": "execute_result"
    }
   ],
   "source": [
    "matrix_transpose(rand_matrix)"
   ]
  },
  {
   "cell_type": "code",
   "execution_count": 16,
   "metadata": {},
   "outputs": [],
   "source": [
    "def QR_decomposition(A):\n",
    "    # Generate Q\n",
    "    Q = generate_orthogonal_matrix(A)\n",
    "    # Obtain Q transpose\n",
    "    Q_transpose = matrix_transpose(Q)\n",
    "    # Obtain R = Q_transpose x A\n",
    "    R = matrix_multiplication(Q_transpose,A)\n",
    "\n",
    "    return Q,R"
   ]
  },
  {
   "cell_type": "code",
   "execution_count": 17,
   "metadata": {},
   "outputs": [],
   "source": [
    "import traceback\n",
    "def main_Q1_iv():\n",
    "    try:\n",
    "        A = generate_random_matrix(7,5)\n",
    "        # Keep generating A until the linear independence is obtained.\n",
    "        while not is_gram_schmidt_applicable(A):\n",
    "            A = generate_random_matrix(7,5)\n",
    "        print(\"A: \\n\",__name__, A)\n",
    "        \n",
    "        # QR Decomposition\n",
    "        Q, R = QR_decomposition(A)\n",
    "        print(\"A: \\n\",A)\n",
    "        print(\"Q: \\n\",Q)\n",
    "        print(\"R: \\n\",R)\n",
    "\n",
    "        # QR muliplication\n",
    "        QR = matrix_multiplication(Q,R)\n",
    "        print(\"A: \\n\",A)\n",
    "        print(\"Q: \\n\",Q)\n",
    "        print(\"R: \\n\",R)\n",
    "        print(\"QR: \\n\",QR)\n",
    "\n",
    "        # value of ∥A − (Q.R)∥F\n",
    "        print(\"A-QR: \\n\",A-QR)\n",
    "        print(\"∥A-(Q.R)∥F = \",frobenius_norm(A-QR))\n",
    "\n",
    "\n",
    "    except Exception as e:\n",
    "        traceback.print_exc()\n",
    "        print(e)"
   ]
  },
  {
   "cell_type": "code",
   "execution_count": 18,
   "metadata": {},
   "outputs": [
    {
     "name": "stdout",
     "output_type": "stream",
     "text": [
      "Rank = 4, Columns = 5\n",
      "Columns of the marix are Linearly dependant\n",
      "Gram-Schmidt Algorithm cannot be applied\n",
      "Rank = 5, Columns = 5\n",
      "Columns of the marix are Linearly Independant\n",
      "Gram-Schmidt Algorithm can be applied\n",
      "A: \n",
      " __main__ [[9.     3.1056 7.3745 7.2823 5.2874]\n",
      " [1.6211 8.8058 7.2107 4.9337 3.4344]\n",
      " [7.1355 6.2748 2.1972 2.8808 1.4069]\n",
      " [0.0851 3.5417 7.8682 0.338  4.1927]\n",
      " [7.1991 9.0688 1.9857 8.873  2.1186]\n",
      " [8.8316 7.6834 1.0007 8.8622 4.3197]\n",
      " [3.2754 1.1262 5.0378 1.7104 2.5548]]\n",
      "Rank = 5, Columns = 5\n",
      "Columns of the marix are Linearly Independant\n",
      "Gram-Schmidt Algorithm can be applied\n",
      "A: \n",
      " [[9.     3.1056 7.3745 7.2823 5.2874]\n",
      " [1.6211 8.8058 7.2107 4.9337 3.4344]\n",
      " [7.1355 6.2748 2.1972 2.8808 1.4069]\n",
      " [0.0851 3.5417 7.8682 0.338  4.1927]\n",
      " [7.1991 9.0688 1.9857 8.873  2.1186]\n",
      " [8.8316 7.6834 1.0007 8.8622 4.3197]\n",
      " [3.2754 1.1262 5.0378 1.7104 2.5548]]\n",
      "Q: \n",
      " [[ 0.5426 -0.4246  0.4836  0.2857 -0.1557]\n",
      " [ 0.0977  0.7521  0.2473  0.1589 -0.1832]\n",
      " [ 0.4302  0.0464 -0.1426 -0.8551 -0.166 ]\n",
      " [ 0.0051  0.3489  0.5715 -0.206   0.4589]\n",
      " [ 0.434   0.322  -0.2964  0.2768 -0.4218]\n",
      " [ 0.5325  0.049  -0.3344  0.183   0.7137]\n",
      " [ 0.1975 -0.155   0.398  -0.0968 -0.1297]]\n",
      "R: \n",
      " [[ 1.65860355e+01  1.35126010e+01  8.08088440e+00  1.45822499e+01\n",
      "   7.55540092e+00]\n",
      " [ 1.77950000e-03  9.95313347e+00  5.04669053e+00  3.89641031e+00\n",
      "   2.36395589e+00]\n",
      " [ 9.19300000e-04 -2.56110000e-04  1.06147187e+01 -3.88548470e-01\n",
      "   4.54616755e+00]\n",
      " [ 1.63110000e-03 -1.37026000e-03 -1.88922000e-03  4.24378024e+00\n",
      "   1.11922889e+00]\n",
      " [-2.01297000e-03 -7.40550000e-04  5.59999999e-07 -3.30690000e-04\n",
      "   2.09604122e+00]]\n",
      "A: \n",
      " [[9.     3.1056 7.3745 7.2823 5.2874]\n",
      " [1.6211 8.8058 7.2107 4.9337 3.4344]\n",
      " [7.1355 6.2748 2.1972 2.8808 1.4069]\n",
      " [0.0851 3.5417 7.8682 0.338  4.1927]\n",
      " [7.1991 9.0688 1.9857 8.873  2.1186]\n",
      " [8.8316 7.6834 1.0007 8.8622 4.3197]\n",
      " [3.2754 1.1262 5.0378 1.7104 2.5548]]\n",
      "Q: \n",
      " [[ 0.5426 -0.4246  0.4836  0.2857 -0.1557]\n",
      " [ 0.0977  0.7521  0.2473  0.1589 -0.1832]\n",
      " [ 0.4302  0.0464 -0.1426 -0.8551 -0.166 ]\n",
      " [ 0.0051  0.3489  0.5715 -0.206   0.4589]\n",
      " [ 0.434   0.322  -0.2964  0.2768 -0.4218]\n",
      " [ 0.5325  0.049  -0.3344  0.183   0.7137]\n",
      " [ 0.1975 -0.155   0.398  -0.0968 -0.1297]]\n",
      "R: \n",
      " [[ 1.65860355e+01  1.35126010e+01  8.08088440e+00  1.45822499e+01\n",
      "   7.55540092e+00]\n",
      " [ 1.77950000e-03  9.95313347e+00  5.04669053e+00  3.89641031e+00\n",
      "   2.36395589e+00]\n",
      " [ 9.19300000e-04 -2.56110000e-04  1.06147187e+01 -3.88548470e-01\n",
      "   4.54616755e+00]\n",
      " [ 1.63110000e-03 -1.37026000e-03 -1.88922000e-03  4.24378024e+00\n",
      "   1.11922889e+00]\n",
      " [-2.01297000e-03 -7.40550000e-04  5.59999999e-07 -3.30690000e-04\n",
      "   2.09604122e+00]]\n",
      "QR: \n",
      " [[9.00005127 3.10543682 7.37460122 7.28251046 5.28776157]\n",
      " [1.62264933 8.8057874  7.209838   4.93348524 3.43421185]\n",
      " [7.13420334 6.27627753 2.1985194  2.88068278 1.40674207]\n",
      " [0.08447527 3.5413586  7.86870403 0.3374011  4.19276367]\n",
      " [7.19994048 9.06938682 1.98541238 8.87332421 2.1184461 ]\n",
      " [8.83070551 7.68246995 1.00045151 8.86227857 4.31960991]\n",
      " [3.27593526 1.12612978 5.0385785  1.71065344 2.5549553 ]]\n",
      "A-QR: \n",
      " [[-5.12739270e-05  1.63176075e-04 -1.01216884e-04 -2.10457301e-04\n",
      "  -3.61571397e-04]\n",
      " [-1.54932913e-03  1.25961850e-05  8.62004228e-04  2.14761775e-04\n",
      "   1.88151015e-04]\n",
      " [ 1.29666047e-03 -1.47752663e-03 -1.31939764e-03  1.17218592e-04\n",
      "   1.57929909e-04]\n",
      " [ 6.24730085e-04  3.41398662e-04 -5.04026856e-04  5.98901884e-04\n",
      "  -6.36740560e-05]\n",
      " [-8.40476026e-04 -5.86820066e-04  2.87623616e-04 -3.24211422e-04\n",
      "   1.53895804e-04]\n",
      " [ 8.94490709e-04  9.30045776e-04  2.48491930e-04 -7.85717500e-05\n",
      "   9.00946260e-05]\n",
      " [-5.35257929e-04  7.02217520e-05 -7.78495254e-04 -2.53435326e-04\n",
      "  -1.55300864e-04]]\n",
      "∥A-(Q.R)∥F =  0.0038\n"
     ]
    }
   ],
   "source": [
    "main_Q1_iv()"
   ]
  },
  {
   "cell_type": "code",
   "execution_count": null,
   "metadata": {},
   "outputs": [],
   "source": []
  },
  {
   "cell_type": "code",
   "execution_count": null,
   "metadata": {},
   "outputs": [],
   "source": []
  }
 ],
 "metadata": {
  "interpreter": {
   "hash": "20fe9ac160caa27b484c121bdfff980af9c3868837d39524e09bbd9828f0ae76"
  },
  "kernelspec": {
   "display_name": "Python 3.8.8 64-bit ('base': conda)",
   "language": "python",
   "name": "python3"
  },
  "language_info": {
   "codemirror_mode": {
    "name": "ipython",
    "version": 3
   },
   "file_extension": ".py",
   "mimetype": "text/x-python",
   "name": "python",
   "nbconvert_exporter": "python",
   "pygments_lexer": "ipython3",
   "version": "3.8.8"
  },
  "orig_nbformat": 4
 },
 "nbformat": 4,
 "nbformat_minor": 2
}
