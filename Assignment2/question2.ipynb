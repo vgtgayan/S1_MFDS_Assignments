{
 "cells": [
  {
   "cell_type": "markdown",
   "metadata": {},
   "source": [
    "### Q2) Gradient Descent Algorithm"
   ]
  },
  {
   "cell_type": "markdown",
   "metadata": {},
   "source": [
    "#### i) \n",
    "Consider the last 4 digits of your mobile number (Note : In case there\n",
    "is a 0 in one of the digits replace it by 3). Let it be n1n2n3n4. Generate\n",
    "a random matrix A of size n1n2 × n3n4. For example, if the last four\n",
    "digits are 2311, generate a random matrix of size 23 × 11. Write a code\n",
    "to calculate the l∞ norm of this matrix."
   ]
  },
  {
   "cell_type": "code",
   "execution_count": 1,
   "metadata": {},
   "outputs": [],
   "source": [
    "import numpy as np"
   ]
  },
  {
   "cell_type": "code",
   "execution_count": 6,
   "metadata": {},
   "outputs": [],
   "source": [
    "def generate_random_matrix(m,n):\n",
    "        rand_gen = np.random.default_rng()\n",
    "        return np.round_(rand_gen.uniform(low=0, high=10, size=(m,n)),4)"
   ]
  },
  {
   "cell_type": "code",
   "execution_count": 7,
   "metadata": {},
   "outputs": [],
   "source": [
    "def l_infinity_norm(A):\n",
    "    r,c  = A.shape\n",
    "    max = 0\n",
    "    for row in A:\n",
    "        row_sum = sum(row)\n",
    "        if max < row_sum:\n",
    "            max = row_sum\n",
    "    return max"
   ]
  },
  {
   "cell_type": "code",
   "execution_count": 13,
   "metadata": {},
   "outputs": [],
   "source": [
    "def main_Q2_i():\n",
    "    # 07...0542\n",
    "    # n1n2n3n4 = 3542 => 35x42\n",
    "    A = generate_random_matrix(35, 42)\n",
    "    print(\"A: \\n\",A)\n",
    "    print(\"l_infinity_norm = \", l_infinity_norm(A))"
   ]
  },
  {
   "cell_type": "code",
   "execution_count": 14,
   "metadata": {},
   "outputs": [
    {
     "name": "stdout",
     "output_type": "stream",
     "text": [
      "A: \n",
      " [[3.7537 4.6111 7.4423 ... 9.327  2.128  7.4313]\n",
      " [7.9847 4.4052 3.6403 ... 1.7817 7.8962 6.6332]\n",
      " [9.4836 5.8936 0.7717 ... 5.7481 6.4143 5.3507]\n",
      " ...\n",
      " [4.5869 6.7297 6.0956 ... 9.739  0.9695 9.9127]\n",
      " [4.5774 3.7517 1.4167 ... 8.7043 6.8602 6.7845]\n",
      " [9.7426 1.7878 2.19   ... 6.5531 6.1136 5.92  ]]\n",
      "l_infinity_norm =  250.2958\n"
     ]
    }
   ],
   "source": [
    "main_Q2_i()"
   ]
  },
  {
   "cell_type": "markdown",
   "metadata": {},
   "source": [
    "#### Q2) ii)"
   ]
  },
  {
   "cell_type": "code",
   "execution_count": 35,
   "metadata": {},
   "outputs": [],
   "source": [
    "import math\n",
    "def vector_l2_norm(a):\n",
    "    rows = len(a)\n",
    "    square_sum = 0\n",
    "    for i in range(rows):\n",
    "        square_sum += a[i]**2\n",
    "    return math.sqrt(square_sum)"
   ]
  },
  {
   "cell_type": "code",
   "execution_count": 22,
   "metadata": {},
   "outputs": [],
   "source": [
    "def matrix_transpose(A):\n",
    "    r, c = A.shape\n",
    "    # Initialize transpose\n",
    "    A_transpose = np.zeros((c,r))\n",
    "    for row in range(r):\n",
    "        for col in range(c):\n",
    "            A_transpose[col,row] = A[row,col]\n",
    "\n",
    "    return A_transpose"
   ]
  },
  {
   "cell_type": "code",
   "execution_count": 23,
   "metadata": {},
   "outputs": [],
   "source": [
    "# Perform AxB matrix multiplication\n",
    "def matrix_multiplication(A,B):\n",
    "    rA, cA = A.shape\n",
    "    rB, cB = B.shape\n",
    "    # Check condition for matrix multiplication\n",
    "    if cA != rB:\n",
    "        print(\"Matrices are not compatible to perform multiplication\")\n",
    "        return None\n",
    "        \n",
    "    # Initialize resultant matrix\n",
    "    C = np.zeros((rA,cB))\n",
    "    # Multilplication\n",
    "    for row in range(rA):\n",
    "        for col in range(cB):\n",
    "            # Sum of product\n",
    "            sop = 0\n",
    "            for i in range(cA):\n",
    "                sop += A[row,i]*B[i,col]\n",
    "            C[row,col] = sop\n",
    "\n",
    "    return C"
   ]
  },
  {
   "cell_type": "code",
   "execution_count": 30,
   "metadata": {},
   "outputs": [],
   "source": [
    "def function_fx(A,b,x):\n",
    "    # Check for dimension compatibility\n",
    "    r_A, c_A = A.shape\n",
    "    r_b, c_b = b.shape\n",
    "    r_x, c_x = x.shape\n",
    "\n",
    "    if (r_A != r_b) or (c_A != r_x):\n",
    "        print(\"Dimension incompatibility in A,b,x\")\n",
    "        return None\n",
    "    \n",
    "    Ax = matrix_multiplication(A,x)\n",
    "    return 0.5*((vector_l2_norm(Ax - b))**2)\n"
   ]
  },
  {
   "cell_type": "code",
   "execution_count": 25,
   "metadata": {},
   "outputs": [],
   "source": [
    "def gradient_fx(A,b,x):\n",
    "    # Check for dimension compatibility\n",
    "    r_A, c_A = A.shape\n",
    "    r_b, c_b = b.shape\n",
    "    r_x, c_x = x.shape\n",
    "\n",
    "    if (r_A != r_b) or (c_A != r_x):\n",
    "        print(\"Dimension incompatibility in A,b,x\")\n",
    "        return None\n",
    "\n",
    "    A_transpose = matrix_transpose(A)\n",
    "    Ax = matrix_multiplication(A,x)\n",
    "    Ax_b = Ax - b\n",
    "\n",
    "    # Return AT(Ax-b)\n",
    "    return matrix_multiplication(A_transpose, Ax_b)\n"
   ]
  },
  {
   "cell_type": "code",
   "execution_count": 26,
   "metadata": {},
   "outputs": [],
   "source": [
    "def get_step_size(A,b,x):\n",
    "    A_transpose = matrix_transpose(A)\n",
    "    g_k = gradient_fx(A,b,x)\n",
    "    g_k_transpose = matrix_transpose(g_k)\n",
    "\n",
    "    # Calculate step size\n",
    "    numerator = matrix_multiplication(g_k_transpose, g_k)\n",
    "    tmp1 = matrix_multiplication(g_k_transpose,A_transpose)\n",
    "    tmp2 = matrix_multiplication(A,g_k)\n",
    "    denominator = matrix_multiplication(tmp1,tmp2)\n",
    "\n",
    "    return numerator/denominator"
   ]
  },
  {
   "cell_type": "code",
   "execution_count": 39,
   "metadata": {},
   "outputs": [],
   "source": [
    "import pandas as pd\n",
    "\n",
    "def gradient_descent_algo(A, b):\n",
    "    # Check for dimension compatibility\n",
    "    r_A, c_A = A.shape\n",
    "    r_b, c_b = b.shape\n",
    "    if r_A != r_b:\n",
    "        print(\"No of rows in A and b are different.\")\n",
    "        return None\n",
    "    # Initial guess for x\n",
    "    x_k = np.zeros((c_A,1))\n",
    "\n",
    "    # List to keep estimates of x at each iteration\n",
    "    x_list = [x_k]\n",
    "    # List to keep function value at each iteration\n",
    "    fx_list = [function_fx(A,b,x_k)]\n",
    "\n",
    "    # Gradient descent iterations\n",
    "    while True:\n",
    "        g_k = gradient_fx(A,b,x_k)\n",
    "        step_size = get_step_size(A,b,x_k)\n",
    "        \n",
    "        # Next guess for x\n",
    "        x_k_plus_1 = x_k - step_size*g_k\n",
    "\n",
    "        # Error\n",
    "        error_l2 = vector_l2_norm(x_k - x_k_plus_1)\n",
    "\n",
    "        # Update x_k\n",
    "        x_k = x_k_plus_1\n",
    "\n",
    "        # Store x_k and f(x_k)\n",
    "        x_list.append(x_k)\n",
    "        fx_list.append(function_fx(A,b,x_k))\n",
    "\n",
    "        # Terminating condition\n",
    "        if error_l2 < 0.0001:\n",
    "            break\n",
    "\n",
    "    # Save x_k and f(x_k) values to a file\n",
    "    df  = pd.DataFrame(data=list(zip(x_list,fx_list)), columns=[\"x_k\", \"f(x_k)\"])\n",
    "    print(df)\n",
    "    df.to_csv(\"gradient_descent_results.csv\")\n",
    "    \n",
    "    \n",
    "    # return List of estimates of x \n",
    "    # (last element is the final estimate of local minima)\n",
    "    return x_list, fx_list\n",
    "\n",
    "    "
   ]
  },
  {
   "cell_type": "code",
   "execution_count": 42,
   "metadata": {},
   "outputs": [],
   "source": [
    "import matplotlib.pyplot as plt\n",
    "\n",
    "def main_Q2_ii():\n",
    "    # mobile number: 07...0542\n",
    "    # n1n2n3n4 = 3542 => 35x42\n",
    "    A = generate_random_matrix(35, 42)\n",
    "\n",
    "    # vector b - 35x1\n",
    "    b = generate_random_matrix(35, 1)\n",
    "\n",
    "    # call gradient descent algorithm\n",
    "    x_list, fx_list = gradient_descent_algo(A, b)\n",
    "    print(\"Local minima estimate: \", x_list[-1])\n",
    "\n",
    "\n",
    "    # Plot the graph of f(xk) vs k where k is the iteration number and xk is the current estimate of x at iteration k\n",
    "    k = range(len(fx_list))\n",
    "    plt.plot(fx_list)\n",
    "    plt.ylabel('f(xk)')\n",
    "    plt.xlabel('Iteration')\n",
    "    plt.show()\n"
   ]
  },
  {
   "cell_type": "code",
   "execution_count": 43,
   "metadata": {},
   "outputs": [
    {
     "name": "stdout",
     "output_type": "stream",
     "text": [
      "                                                   x_k      f(x_k)\n",
      "0    [[0.0], [0.0], [0.0], [0.0], [0.0], [0.0], [0....  585.348258\n",
      "1    [[0.02439289686593256], [0.02501182510390349],...  144.599424\n",
      "2    [[-0.025768075616714126], [0.14736089269619795...   75.542881\n",
      "3    [[-0.021321416767850335], [0.15190069834066744...   64.257116\n",
      "4    [[-0.013357405205355354], [0.1760687677267757]...   56.600950\n",
      "..                                                 ...         ...\n",
      "759  [[0.050197615603232736], [0.7960727111243224],...    0.030491\n",
      "760  [[0.050127116128899966], [0.7962063654156185],...    0.030309\n",
      "761  [[0.05014166341990743], [0.7962254439733887], ...    0.030127\n",
      "762  [[0.05007158797991157], [0.7963582010078112], ...    0.029947\n",
      "763  [[0.05008604786037713], [0.7963771619734863], ...    0.029768\n",
      "\n",
      "[764 rows x 2 columns]\n",
      "Local minima estimate:  [[ 0.05008605]\n",
      " [ 0.79637716]\n",
      " [-0.51108005]\n",
      " [ 0.39943704]\n",
      " [ 0.14314554]\n",
      " [-0.34054761]\n",
      " [ 0.31856375]\n",
      " [ 0.17815988]\n",
      " [-0.36126704]\n",
      " [-0.48569326]\n",
      " [ 0.23685052]\n",
      " [ 0.59081753]\n",
      " [ 0.37154561]\n",
      " [-0.21551854]\n",
      " [-0.2861068 ]\n",
      " [-0.19540868]\n",
      " [-0.20678189]\n",
      " [ 0.03357607]\n",
      " [-0.47061177]\n",
      " [-0.12447986]\n",
      " [ 0.08520053]\n",
      " [ 0.11680318]\n",
      " [-0.13330211]\n",
      " [-0.09589712]\n",
      " [-0.15165449]\n",
      " [-0.24733212]\n",
      " [ 0.04173823]\n",
      " [ 0.44004258]\n",
      " [ 0.01570454]\n",
      " [ 0.08269805]\n",
      " [-0.30136298]\n",
      " [-0.01945895]\n",
      " [ 0.34683901]\n",
      " [ 0.42011535]\n",
      " [ 0.15207849]\n",
      " [-0.07560183]\n",
      " [ 0.15324283]\n",
      " [-0.08834001]\n",
      " [ 0.15516648]\n",
      " [-0.28887959]\n",
      " [ 0.32996849]\n",
      " [ 0.05414348]]\n"
     ]
    },
    {
     "data": {
      "image/png": "[encoded data removed]",
      "text/plain": [
       "<Figure size 432x288 with 1 Axes>"
      ]
     },
     "metadata": {
      "needs_background": "light"
     },
     "output_type": "display_data"
    }
   ],
   "source": [
    "main_Q2_ii()"
   ]
  },
  {
   "cell_type": "code",
   "execution_count": null,
   "metadata": {},
   "outputs": [],
   "source": []
  }
 ],
 "metadata": {
  "interpreter": {
   "hash": "20fe9ac160caa27b484c121bdfff980af9c3868837d39524e09bbd9828f0ae76"
  },
  "kernelspec": {
   "display_name": "Python 3.8.8 ('base')",
   "language": "python",
   "name": "python3"
  },
  "language_info": {
   "codemirror_mode": {
    "name": "ipython",
    "version": 3
   },
   "file_extension": ".py",
   "mimetype": "text/x-python",
   "name": "python",
   "nbconvert_exporter": "python",
   "pygments_lexer": "ipython3",
   "version": "3.8.8"
  },
  "orig_nbformat": 4
 },
 "nbformat": 4,
 "nbformat_minor": 2
}
