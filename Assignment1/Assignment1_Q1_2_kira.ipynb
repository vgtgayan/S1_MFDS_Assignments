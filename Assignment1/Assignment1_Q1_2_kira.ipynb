{
 "cells": [
  {
   "cell_type": "markdown",
   "id": "4b38ecfa",
   "metadata": {},
   "source": [
    "Gauss elimination without pivoting"
   ]
  },
  {
   "cell_type": "code",
   "execution_count": 14,
   "id": "3eb2bd06",
   "metadata": {},
   "outputs": [],
   "source": [
    "import time\n",
    "import random\n",
    "import pandas as pd\n",
    "import math\n",
    "from tqdm import tqdm\n",
    "from copy import copy, deepcopy\n",
    "from pprint import pprint\n",
    "from functools import partial\n",
    "from matplotlib import pyplot as plt"
   ]
  },
  {
   "cell_type": "markdown",
   "id": "8fe81fe3",
   "metadata": {},
   "source": [
    "<h> Q1 </h>"
   ]
  },
  {
   "cell_type": "markdown",
   "id": "861b36c5",
   "metadata": {},
   "source": [
    "(i) Ans:"
   ]
  },
  {
   "cell_type": "code",
   "execution_count": null,
   "id": "bb65e18e",
   "metadata": {},
   "outputs": [],
   "source": []
  },
  {
   "cell_type": "markdown",
   "id": "5396f267",
   "metadata": {},
   "source": [
    "(ii) Ans:"
   ]
  },
  {
   "cell_type": "markdown",
   "id": "124fa712",
   "metadata": {},
   "source": [
    "Gaussian elimination code:"
   ]
  },
  {
   "cell_type": "code",
   "execution_count": 21,
   "id": "6a4b2695",
   "metadata": {},
   "outputs": [],
   "source": [
    "'''Note: all the matrices and vectors are implemented in python lists'''\n",
    "\n",
    "# function to round off a value to d significant digits (dS arithmetic)\n",
    "def roundto_dS(val, d: int = 5):\n",
    "    if val == 0:\n",
    "        rounded_val = 0\n",
    "    else:\n",
    "        rounded_val = round(val, d - int(math.floor(math.log10(abs(val)))) - 1)\n",
    "    return rounded_val\n",
    "\n",
    "# function to check if the given matrix is a square matrix or not\n",
    "def is_square_matrix(matrix: list):\n",
    "    is_square = 1\n",
    "    for row in matrix:\n",
    "        if len(row) != len(matrix):\n",
    "            is_square = 0\n",
    "    return is_square\n",
    "\n",
    "# function to return the rank of a matrix\n",
    "def rank(matrix: list):\n",
    "    rank = 0\n",
    "    for row in matrix:\n",
    "        if sum(row) != 0:\n",
    "            rank += 1\n",
    "    return rank\n",
    "\n",
    "\n",
    "### function for gauss elimination ###\n",
    "'''Note: Consider a linear system with n equations and n unknowns.'''\n",
    "# A: n x n square matrix (coefficient matrix)\n",
    "# b: vector of size n\n",
    "# d: number of significant digits used for each operation (dS arithmetic)\n",
    "# pivoting: perform partial pivoting if True\n",
    "\n",
    "def gauss_elimination(A: list, b: list, d: int = 5, pivoting: bool = True):\n",
    "    if len(A) != len(b):\n",
    "        print('Number of rows in A is not equal to the length of b. Not a linear system.')\n",
    "        return\n",
    "    elif is_square_matrix(A) == 0:\n",
    "        print('A is not a square matrix.')\n",
    "        return\n",
    "    else:\n",
    "        ### implement the gauss elimination here. ###\n",
    "        \n",
    "        n = len(A)  # number of rows (n) in matrix A\n",
    "        \n",
    "        # create a dictionary to output the values of unknown parameters x0, x1, ...\n",
    "        # and initialize None for all the varirables.\n",
    "        # output format is like {'x0': val1, 'x1': val2, ...}\n",
    "        output_vals = {}\n",
    "        for xi in range(n):\n",
    "            output_vals['x'+str(xi)] = None\n",
    "        \n",
    "        # create augmented matrix\n",
    "        Aug = A\n",
    "        for row_index in range(n):\n",
    "            Aug[row_index].append(b[row_index])\n",
    "        \n",
    "        \n",
    "        # 1. forward elimination (transform the augmented matrix into REF)\n",
    "        \n",
    "        # iterate through the rows.\n",
    "        for row_index in range(n):\n",
    "            \n",
    "            # do partial pivoting if pivoting is True.\n",
    "            if pivoting:\n",
    "                # initialize max value in column.\n",
    "                max_in_col = abs(Aug[row_index][row_index])\n",
    "                max_row_index = row_index\n",
    "                # search for the max value in column. here ri2 is short for row_index2.\n",
    "                for ri2 in range(row_index + 1, n):\n",
    "                    if abs(Aug[ri2][row_index]) > max_in_col:\n",
    "                        max_in_col = abs(Aug[ri2][row_index])\n",
    "                        max_row_index = ri2\n",
    "                # perform partial pivoting if max value is not in the current row.\n",
    "                if max_row_index != row_index:\n",
    "                    temp = Aug[row_index]\n",
    "                    Aug[row_index] = Aug[max_row_index]\n",
    "                    Aug[max_row_index] = temp\n",
    "            \n",
    "            # row transform. here ri2 is short for row_index2.\n",
    "            for ri2 in range(row_index + 1, n):\n",
    "                # check if the value is already zero and skip for zero.\n",
    "                if Aug[ri2][row_index] == 0:\n",
    "                    continue\n",
    "                \n",
    "                # calculate the multiplier with the index row\n",
    "                multiplier = roundto_dS(-Aug[ri2][row_index]/Aug[row_index][row_index], d)\n",
    "                \n",
    "                # assign Aug[ri2][row_index] to zero. Prior values are already assigned to zero\n",
    "                # in the previous cycles of the loop.\n",
    "                Aug[ri2][row_index] = 0\n",
    "                \n",
    "                # compute the values in row. Iterate through the columns from row_index+1 to n+1\n",
    "                # since this is augmented matrix, there are n+1 columns.\n",
    "                for col_index in range(row_index + 1, n + 1):\n",
    "                    Aug[ri2][col_index] = roundto_dS(Aug[ri2][col_index] + multiplier * Aug[row_index][col_index], d)\n",
    "\n",
    "        \n",
    "        # 2. back substitution\n",
    "        \n",
    "        # get the REF(A) from the transformed augmented matrix.\n",
    "        REF_A = A\n",
    "        for row_index in range(n):\n",
    "            for col_index in range(n):\n",
    "                REF_A[row_index][col_index] = Aug[row_index][col_index]\n",
    "        \n",
    "        # determine if the given linear system has solutions.\n",
    "        \n",
    "        # a. No solution.\n",
    "        if rank(REF_A) != rank(Aug):\n",
    "            print('The system is inconsistent. No solutions.')\n",
    "            return\n",
    "        \n",
    "        # b. Infinitely many solutions.\n",
    "        elif rank(REF_A) < n:\n",
    "            print('The system has infinitely many solutions.')\n",
    "            return\n",
    "        \n",
    "        # c. Unique solution. (when rank(REF_A)==n)\n",
    "        else:\n",
    "            # iterate through the rows backward\n",
    "            for row_index in range(n-1,-1,-1):\n",
    "                sum = 0  # variable to keep the sum of values with solved parameters.\n",
    "                \n",
    "                # iterate through the columns to get sum of values.\n",
    "                for col_index in range(n-1,row_index,-1):\n",
    "                    sum = roundto_dS(sum + Aug[row_index][col_index]*output_vals['x'+str(col_index)], d)\n",
    "                \n",
    "                output_vals['x'+str(row_index)] = roundto_dS((Aug[row_index][n] - sum)/Aug[row_index][row_index], d)\n",
    "            \n",
    "            return output_vals"
   ]
  },
  {
   "cell_type": "code",
   "execution_count": 22,
   "id": "3e17f2d3",
   "metadata": {},
   "outputs": [
    {
     "data": {
      "text/plain": [
       "{'x0': -0.5,\n",
       " 'x1': 1.0000000000000002,\n",
       " 'x2': 0.3333333333333337,\n",
       " 'x3': -2.0000000000000004}"
      ]
     },
     "execution_count": 22,
     "metadata": {},
     "output_type": "execute_result"
    }
   ],
   "source": [
    "gauss_elimination(A=[[6, 1, -6, -5], [2, 2, 3, 2], [4, -3, 0, 1], [0, 2, 0, 1]], b=[6, -2, -7, 0], pivoting=True, d=19)"
   ]
  },
  {
   "cell_type": "code",
   "execution_count": 7,
   "id": "65d092b9",
   "metadata": {},
   "outputs": [],
   "source": [
    "for i in range(2,2,-1):\n",
    "    print(i)"
   ]
  },
  {
   "cell_type": "code",
   "execution_count": null,
   "id": "8fa42cf4",
   "metadata": {},
   "outputs": [],
   "source": []
  }
 ],
 "metadata": {
  "kernelspec": {
   "display_name": "Python 3",
   "language": "python",
   "name": "python3"
  },
  "language_info": {
   "codemirror_mode": {
    "name": "ipython",
    "version": 3
   },
   "file_extension": ".py",
   "mimetype": "text/x-python",
   "name": "python",
   "nbconvert_exporter": "python",
   "pygments_lexer": "ipython3",
   "version": "3.8.8"
  }
 },
 "nbformat": 4,
 "nbformat_minor": 5
}
