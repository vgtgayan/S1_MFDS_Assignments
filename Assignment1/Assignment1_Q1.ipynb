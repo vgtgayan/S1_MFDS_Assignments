{
 "cells": [
  {
   "cell_type": "markdown",
   "metadata": {},
   "source": [
    "### (ii) Write a function to implement Gauss elimination with and without pivoting.\n",
    "Also write the code to count the number of additions, multiplications\n",
    "and divisions performed during Gaussian elimination."
   ]
  },
  {
   "cell_type": "code",
   "execution_count": 48,
   "metadata": {},
   "outputs": [],
   "source": [
    "import numpy as np\n",
    "import pandas as pd\n",
    "import time\n",
    "import random\n",
    "import math"
   ]
  },
  {
   "cell_type": "code",
   "execution_count": 45,
   "metadata": {},
   "outputs": [],
   "source": [
    "def generate_matrix():\n",
    "    test_cases = {}\n",
    "    for case in range(100, 1100, 100):\n",
    "        A = [[round(random.uniform(0,10),4) for _ in range(case)] for _ in range(case)]\n",
    "        b = [round(random.uniform(0,10),4) for _ in range(case)]\n",
    "        test_cases[case] = {'A': A, 'b': b} \n",
    "        \n",
    "    return test_cases\n",
    "\n",
    "\n",
    "# tests = generate_matrix()\n",
    "# print(tests)"
   ]
  },
  {
   "cell_type": "code",
   "execution_count": 16,
   "metadata": {},
   "outputs": [],
   "source": [
    "# Function to convert given number to dS arithmetic\n",
    "def to_dS(N,d=5):\n",
    "    if N==0:\n",
    "        return 0\n",
    "    else:\n",
    "        # no of places to the left of the decimal point\n",
    "        l = int(math.floor(math.log10(abs(N)))) + 1\n",
    "        # no of floating points to be rounded\n",
    "        f = d-l\n",
    "        return round(N,f)"
   ]
  },
  {
   "cell_type": "code",
   "execution_count": 17,
   "metadata": {},
   "outputs": [
    {
     "data": {
      "text/plain": [
       "139.6"
      ]
     },
     "execution_count": 17,
     "metadata": {},
     "output_type": "execute_result"
    }
   ],
   "source": [
    "to_dS(139.59,d=4)"
   ]
  },
  {
   "cell_type": "code",
   "execution_count": 18,
   "metadata": {},
   "outputs": [],
   "source": [
    "def get_rank(A):\n",
    "    rank = len(A)\n",
    "    for row in A:\n",
    "        if sum(row) == 0:\n",
    "            rank -= 1\n",
    "    return rank"
   ]
  },
  {
   "cell_type": "code",
   "execution_count": 19,
   "metadata": {},
   "outputs": [
    {
     "data": {
      "text/plain": [
       "4"
      ]
     },
     "execution_count": 19,
     "metadata": {},
     "output_type": "execute_result"
    }
   ],
   "source": [
    "A = [[0,2,0,1],[2,2,3,2],[4,-3,0,1],[6,1,-6,-5]]\n",
    "b = [0,-2,-7,6]\n",
    "\n",
    "get_rank(A)"
   ]
  },
  {
   "cell_type": "code",
   "execution_count": 54,
   "metadata": {},
   "outputs": [],
   "source": [
    "def gauss_ellimination(A,b,pivot_enable=True,d=5):\n",
    "    nA = len(A)\n",
    "    nb = len(b)\n",
    "    add_count = 0\n",
    "    mul_count = 0\n",
    "    div_count = 0\n",
    "    \n",
    "    if nA != nb:\n",
    "        print(\"Incompatible A matrix and b vector.\")\n",
    "        return 0\n",
    "    \n",
    "    # Create Augmented matrix\n",
    "    A_b = A\n",
    "    for i in range(nA):\n",
    "        A_b[i].append(b[i])\n",
    "    # print(A_b)\n",
    "\n",
    "    ## Forward ellimination process -------------------\n",
    "    # Do below for each row    \n",
    "    for row in range(nA):\n",
    "        # Partial pivotting (if enabled)\n",
    "        if pivot_enable:\n",
    "            # Current pivot value\n",
    "            max_pivot = abs(A_b[row][row])\n",
    "            max_pivot_index = row\n",
    "            # Iterate through pivot column to find the maximum pivot value\n",
    "            for i in range(row+1,nA):\n",
    "                if max_pivot < abs(A_b[i][row]):\n",
    "                    max_pivot = abs(A_b[i][row])\n",
    "                    max_pivot_index = i\n",
    "            \n",
    "            # Do partial pivotting\n",
    "            if row < max_pivot_index:\n",
    "                A_b[row],A_b[max_pivot_index] = A_b[max_pivot_index],A_b[row]\n",
    "            \n",
    "        else:\n",
    "            if A_b[row][row] == 0:\n",
    "                print(\"Pivot value is zero. Please enable partial pivotting to do the calculations...\")\n",
    "                return 0\n",
    "\n",
    "        ## Apply Row transformation for all the rows below current row\n",
    "        pivot_element = A_b[row][row]\n",
    "        for row2 in range(row+1, nA):\n",
    "            # Interested element: The element that we set to zero\n",
    "            interested_element = A_b[row2][row]\n",
    "\n",
    "            # Check if interested element if zero and skip\n",
    "            if interested_element == 0:\n",
    "                continue\n",
    "\n",
    "            # Calculate the row multiple value\n",
    "            row_multiple = to_dS(interested_element/pivot_element,d)\n",
    "            div_count += 1\n",
    "            # Update the interested element to zero\n",
    "            A_b[row2][row] = 0\n",
    "\n",
    "            # Iterated through other columns to update the rest of the values in row\n",
    "            # nA+1 since Augmented value at the end of row\n",
    "            for col in range(row+1, nA+1):\n",
    "                tmp = A_b[row2][col] - to_dS(row_multiple*A_b[row][col],d)\n",
    "                A_b[row2][col]= to_dS(tmp,d)\n",
    "                mul_count += 1\n",
    "                add_count += 1\n",
    "    # print(\"Augmented matrix after forward ellimination: \\n\", A_b)\n",
    "    ## End of Forward ellimination process -------------------\n",
    "    #list to keep results of x\n",
    "    x = [None for _ in range(nA)]\n",
    "\n",
    "    # Get the row echolon form from augmented matrix by removing the last element from each row\n",
    "    # ref_A = list(A_b)\n",
    "    ref_A = [None for _ in range(nA)]\n",
    "    for i in range(nA):\n",
    "        ref_A[i] = A_b[i][:]\n",
    "        # print(\"Before pop: \", ref_A[i])\n",
    "        # ref_A[i].pop()\n",
    "        del ref_A[i][-1]\n",
    "        # print(\"After pop: \", ref_A[i])\n",
    "\n",
    "    # print(\"refA: \",ref_A)\n",
    "    # print(\"AugA: \",A_b)\n",
    "\n",
    "    # Check if the linear system has solutions\n",
    "    # Case1: Finite solutions\n",
    "    if get_rank(ref_A) == nA:\n",
    "        ## Backward substitution process -------------------\n",
    "        # Backward iteration loop for rows\n",
    "        for row in range(nA-1,-1,-1):\n",
    "            # Keep sum of product in a row\n",
    "            row_sop = 0\n",
    "            # Backward iteration loop for cols\n",
    "            for col in range(nA-1,row,-1):\n",
    "                tmp = to_dS(A_b[row][col]*x[col],d)\n",
    "                row_sop = to_dS(row_sop+tmp,d)\n",
    "                mul_count += 1\n",
    "                add_count += 1\n",
    "            # Obtain the x value: x = (b - row_sop)/a\n",
    "            # print(A_b)\n",
    "            tmp = to_dS(A_b[row][nA] - row_sop,d)\n",
    "            x[row] = to_dS(tmp/A_b[row][row],d)\n",
    "            add_count += 1\n",
    "            div_count += 1\n",
    "\n",
    "        # Return x solutions and operation counts\n",
    "        print(\"Solution x = \\n\",x,\"No of additions: \",add_count,\"\\n No of multiplications: \", mul_count, \"\\n No of divisions: \", div_count)\n",
    "        return x,add_count,mul_count,div_count\n",
    "\n",
    "\n",
    "    # Case2: No solutions\n",
    "    elif get_rank(ref_A) != get_rank(A_b):\n",
    "        print(\"Inconsistent linear system...\")\n",
    "\n",
    "    # Case3: Infinite solutions\n",
    "    elif  get_rank(ref_A) < nA:\n",
    "        print(\"Infinite solutions....\")\n",
    "        \n",
    "    return 0\n",
    "\n",
    "\n",
    "\n"
   ]
  },
  {
   "cell_type": "code",
   "execution_count": 55,
   "metadata": {},
   "outputs": [
    {
     "name": "stdout",
     "output_type": "stream",
     "text": [
      "Solution x = \n",
      " [-0.49998, 1.0001, 0.33337, -2.0] No of additions:  26 \n",
      " No of multiplications:  22 \n",
      " No of divisions:  9\n"
     ]
    },
    {
     "data": {
      "text/plain": [
       "([-0.49998, 1.0001, 0.33337, -2.0], 26, 22, 9)"
      ]
     },
     "execution_count": 55,
     "metadata": {},
     "output_type": "execute_result"
    }
   ],
   "source": [
    "# A=print(tests[100]['A'])\n",
    "# b=print(tests[100]['b'])\n",
    "\n",
    "A = [[0,2,0,1],[2,2,3,2],[4,-3,0,1],[6,1,-6,-5]]\n",
    "b = [0,-2,-7,6]\n",
    "\n",
    "gauss_ellimination(A,b)"
   ]
  },
  {
   "cell_type": "markdown",
   "metadata": {},
   "source": [
    "(iii) Generate random matrices of size n × n where n = 100, 200, . . . , 1000.\n",
    "Also generate a random b ∈ Rn for each case. Each number must be\n",
    "of the form m.dddd (Example : 4.5444) which means it has 5 Significant\n",
    "digits in total. Perform Gaussian elimination with and without\n",
    "partial pivoting for each n value (10 cases) above. Report the number\n",
    "of additions, divisions and multiplications for each case in the form of\n",
    "a table. No need of the code and the matrices / vectors."
   ]
  },
  {
   "cell_type": "code",
   "execution_count": 46,
   "metadata": {},
   "outputs": [],
   "source": [
    "test_matrices = generate_matrix()"
   ]
  },
  {
   "cell_type": "code",
   "execution_count": 67,
   "metadata": {},
   "outputs": [],
   "source": [
    "def guass_operation_count(n: int):\n",
    "    \"\"\"\n",
    "    n: Number of row / columns in a square matrix\n",
    "    \"\"\"\n",
    "    # Operation count for addition\n",
    "    ref_addition = (n * (n+1) * (2 * n + 1)) / 6 # Number of addition for REF\n",
    "    backsub_addition = (n * (n - 1)) / 2\n",
    "    total_addition = ref_addition + backsub_addition\n",
    "    \n",
    "    # Operation count for multiplication\n",
    "    total_multiplication = total_addition # Same as addition\n",
    "    \n",
    "    # Operation count for division\n",
    "    ref_division = (n * (n-1)) / 2\n",
    "    backsub_division = n\n",
    "    total_division = ref_division + backsub_division\n",
    "\n",
    "    # Summarize\n",
    "    operation_count = {\n",
    "        'addition': total_addition,\n",
    "        'multiplication': total_multiplication,\n",
    "        'division': total_division\n",
    "    }\n",
    "    \n",
    "    return total_addition,total_multiplication,total_division"
   ]
  },
  {
   "cell_type": "code",
   "execution_count": 72,
   "metadata": {},
   "outputs": [
    {
     "name": "stdout",
     "output_type": "stream",
     "text": [
      "36.0 36.0 10.0\n"
     ]
    }
   ],
   "source": [
    "add,mul,div = guass_operation_count(4)\n",
    "print(add,mul,div)"
   ]
  },
  {
   "cell_type": "code",
   "execution_count": 71,
   "metadata": {},
   "outputs": [
    {
     "name": "stdout",
     "output_type": "stream",
     "text": [
      "Solution x = \n",
      " [-74.386, -24.587, 33.182, 52.279, -53.286, 36.858, -0.81708, 12.199, -77.092, 50.783, 26.676, -31.723, -85.864, -30.828, -14.639, -7.9629, -18.079, -30.276, -6.3576, -35.938, -41.333, 0.39883, -0.26108, 72.774, -3.4881, -30.224, -5.6544, 48.834, 17.277, 46.582, 5.0528, -23.544, 82.315, 39.882, 78.858, -26.488, 11.731, 15.823, 144.19, -35.39, -28.593, -25.193, 0.5744, 68.986, 24.658, 71.371, 62.089, -2.0148, 13.64, 0.63779, 5.7453, -17.918, 14.175, -12.827, -2.8492, -5.8656, -51.213, 93.502, -20.614, -85.841, -114.55, -45.184, -41.179, -16.037, 0.72855, 3.44, 33.278, -10.41, 7.087, -21.448, 26.131, -45.164, -80.211, -20.697, -91.503, 12.916, 8.4589, 109.16, 86.836, 3.124, 39.709, 11.948, -22.636, -22.855, -24.312, -52.965, -24.879, 56.431, 85.198, 5.2452, -0.63799, -20.183, 67.232, 41.324, -63.691, -29.674, -54.555, 20.074, 49.266, -56.862] No of additions:  5050 \n",
      " No of multiplications:  4950 \n",
      " No of divisions:  100\n",
      "Solution x = \n",
      " [-74.386, -24.587, 33.182, 52.279, -53.286, 36.858, -0.81708, 12.199, -77.092, 50.783, 26.676, -31.723, -85.864, -30.828, -14.639, -7.9629, -18.079, -30.276, -6.3576, -35.938, -41.333, 0.39883, -0.26108, 72.774, -3.4881, -30.224, -5.6544, 48.834, 17.277, 46.582, 5.0528, -23.544, 82.315, 39.882, 78.858, -26.488, 11.731, 15.823, 144.19, -35.39, -28.593, -25.193, 0.5744, 68.986, 24.658, 71.371, 62.089, -2.0148, 13.64, 0.63779, 5.7453, -17.918, 14.175, -12.827, -2.8492, -5.8656, -51.213, 93.502, -20.614, -85.841, -114.55, -45.184, -41.179, -16.037, 0.72855, 3.44, 33.278, -10.41, 7.087, -21.448, 26.131, -45.164, -80.211, -20.697, -91.503, 12.916, 8.4589, 109.16, 86.836, 3.124, 39.709, 11.948, -22.636, -22.855, -24.312, -52.965, -24.879, 56.431, 85.198, 5.2452, -0.63799, -20.183, 67.232, 41.324, -63.691, -29.674, -54.555, 20.074, 49.266, -56.862] No of additions:  5050 \n",
      " No of multiplications:  4950 \n",
      " No of divisions:  100\n"
     ]
    }
   ],
   "source": [
    "data = [0,0,0,0,0]\n",
    "df = pd.DataFrame(columns=['N','Addition','Multiplication','Division','Pivotting'])\n",
    "\n",
    "for i in range(100,200,100):\n",
    "    A = test_matrices[i]['A']\n",
    "    b = test_matrices[i]['b']\n",
    "    \n",
    "    # With pivotting, d=5\n",
    "    x,add,mul,div = gauss_ellimination(A,b,True,5)\n",
    "    add,mul,div = guass_operation_count(i)\n",
    "    df.loc[i] = [i,add,mul,div,True]\n",
    "    # df['N'].append(i)\n",
    "    # df['Addition'].append(add)\n",
    "    # df['Multiplication'].append(mul)\n",
    "    # df['Division'].append(div)\n",
    "    # df['Pivotting'].append(True)\n",
    "\n",
    "    # Without pivotting, d=5\n",
    "    x,add,mul,div = gauss_ellimination(A,b,False,5)\n",
    "    add,mul,div = guass_operation_count(i)\n",
    "    df.loc[i+1] = [i,add,mul,div,False]\n",
    "    # df['N'].append(i)\n",
    "    # df['Addition'].append(add)\n",
    "    # df['Multiplication'].append(mul)\n",
    "    # df['Division'].append(div)\n",
    "    # df['Pivotting'].append(True)"
   ]
  },
  {
   "cell_type": "code",
   "execution_count": 65,
   "metadata": {},
   "outputs": [
    {
     "data": {
      "text/html": [
       "<div>\n",
       "<style scoped>\n",
       "    .dataframe tbody tr th:only-of-type {\n",
       "        vertical-align: middle;\n",
       "    }\n",
       "\n",
       "    .dataframe tbody tr th {\n",
       "        vertical-align: top;\n",
       "    }\n",
       "\n",
       "    .dataframe thead th {\n",
       "        text-align: right;\n",
       "    }\n",
       "</style>\n",
       "<table border=\"1\" class=\"dataframe\">\n",
       "  <thead>\n",
       "    <tr style=\"text-align: right;\">\n",
       "      <th></th>\n",
       "      <th>N</th>\n",
       "      <th>Addition</th>\n",
       "      <th>Multiplication</th>\n",
       "      <th>Division</th>\n",
       "      <th>Pivotting</th>\n",
       "    </tr>\n",
       "  </thead>\n",
       "  <tbody>\n",
       "    <tr>\n",
       "      <th>100</th>\n",
       "      <td>100</td>\n",
       "      <td>5050</td>\n",
       "      <td>4950</td>\n",
       "      <td>100</td>\n",
       "      <td>True</td>\n",
       "    </tr>\n",
       "    <tr>\n",
       "      <th>101</th>\n",
       "      <td>100</td>\n",
       "      <td>5050</td>\n",
       "      <td>4950</td>\n",
       "      <td>100</td>\n",
       "      <td>False</td>\n",
       "    </tr>\n",
       "  </tbody>\n",
       "</table>\n",
       "</div>"
      ],
      "text/plain": [
       "       N Addition Multiplication Division Pivotting\n",
       "100  100     5050           4950      100      True\n",
       "101  100     5050           4950      100     False"
      ]
     },
     "execution_count": 65,
     "metadata": {},
     "output_type": "execute_result"
    }
   ],
   "source": [
    "df"
   ]
  },
  {
   "cell_type": "code",
   "execution_count": 80,
   "metadata": {},
   "outputs": [
    {
     "name": "stdout",
     "output_type": "stream",
     "text": [
      "Slope with pivotting:  2.973677653475038\n"
     ]
    },
    {
     "data": {
      "image/png": "[encoded data removed]",
      "text/plain": [
       "<Figure size 432x288 with 1 Axes>"
      ]
     },
     "metadata": {
      "needs_background": "light"
     },
     "output_type": "display_data"
    }
   ],
   "source": [
    "import matplotlib.pyplot as plt\n",
    "x = np.array([math.log10(i) for i in range(100,1100,100)])\n",
    "y_ = [0.43718, 3.3581, 11.64, 26.7, 49, 85.2, 141.58, 212, 302.33, 415.55]\n",
    "y = np.array([math.log10(j) for j in y_])\n",
    "\n",
    "plt.plot(x,y,'o')\n",
    "\n",
    "#obtain m (slope) and b(intercept) of linear regression line\n",
    "m, b = np.polyfit(x, y, 1)\n",
    "print(\"Slope with pivotting: \",m)\n",
    "\n",
    "#add linear regression line to scatterplot \n",
    "plt.plot(x, m*x+b)\n",
    "\n",
    "\n",
    "\n",
    "plt.ylabel('log(T1(n))')\n",
    "plt.xlabel('log(n)')\n",
    "plt.title('Actual time with pivotting')\n",
    "plt.show()"
   ]
  },
  {
   "cell_type": "code",
   "execution_count": 81,
   "metadata": {},
   "outputs": [
    {
     "name": "stdout",
     "output_type": "stream",
     "text": [
      "Slope without pivotting:  3.0237825029839267\n"
     ]
    },
    {
     "data": {
      "image/png": "[encoded data removed]",
      "text/plain": [
       "<Figure size 432x288 with 1 Axes>"
      ]
     },
     "metadata": {
      "needs_background": "light"
     },
     "output_type": "display_data"
    }
   ],
   "source": [
    "x = np.array([math.log10(i) for i in range(100,1100,100)])\n",
    "y_ = [0.44, 3.35, 11.29, 27.55, 52.45, 91.81, 154.8, 238.6, 328.5, 442.88]\n",
    "y = np.array([math.log10(j) for j in y_])\n",
    "\n",
    "plt.plot(x,y,'o')\n",
    "\n",
    "#obtain m (slope) and b(intercept) of linear regression line\n",
    "m, b = np.polyfit(x, y, 1)\n",
    "print(\"Slope without pivotting: \",m)\n",
    "#add linear regression line to scatterplot \n",
    "plt.plot(x, m*x+b)\n",
    "\n",
    "plt.ylabel('log(T1(n))')\n",
    "plt.xlabel('log(n)')\n",
    "plt.title('Actual time without pivotting')\n",
    "plt.show()"
   ]
  },
  {
   "cell_type": "code",
   "execution_count": null,
   "metadata": {},
   "outputs": [],
   "source": []
  }
 ],
 "metadata": {
  "interpreter": {
   "hash": "20fe9ac160caa27b484c121bdfff980af9c3868837d39524e09bbd9828f0ae76"
  },
  "kernelspec": {
   "display_name": "Python 3.8.8 64-bit ('base': conda)",
   "language": "python",
   "name": "python3"
  },
  "language_info": {
   "codemirror_mode": {
    "name": "ipython",
    "version": 3
   },
   "file_extension": ".py",
   "mimetype": "text/x-python",
   "name": "python",
   "nbconvert_exporter": "python",
   "pygments_lexer": "ipython3",
   "version": "3.8.8"
  },
  "orig_nbformat": 4
 },
 "nbformat": 4,
 "nbformat_minor": 2
}
