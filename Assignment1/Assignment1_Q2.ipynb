{
 "cells": [
  {
   "cell_type": "code",
   "execution_count": 3,
   "id": "6c9525b5",
   "metadata": {},
   "outputs": [],
   "source": [
    "import numpy as np\n",
    "from itertools import permutations"
   ]
  },
  {
   "cell_type": "markdown",
   "id": "6d78506b",
   "metadata": {},
   "source": [
    "# Q2) Implementing Gauss Seidel and Gauss Jacobi Methods"
   ]
  },
  {
   "cell_type": "markdown",
   "id": "d9724506",
   "metadata": {},
   "source": [
    "(i) Write a function to check whether a given square matrix is diagonally\n",
    "dominant or not. If not, the function should indicate if the matrix can\n",
    "be made diagonally dominant by interchanging the rows? Code to be\n",
    "written and submitted."
   ]
  },
  {
   "cell_type": "code",
   "execution_count": 4,
   "id": "257ba212",
   "metadata": {},
   "outputs": [],
   "source": [
    "def is_diag_dom(A):\n",
    "    #traverse rows\n",
    "    for i in range(len(A)):\n",
    "        row_sum = 0\n",
    "        #traverse each column value in row\n",
    "        for j in range(len(A[i])):\n",
    "            row_sum += abs(A[i][j])\n",
    "        if abs(A[i][i]) <= row_sum - abs(A[i][i]):\n",
    "            return False\n",
    "    return True"
   ]
  },
  {
   "cell_type": "code",
   "execution_count": 5,
   "id": "ba974ab4",
   "metadata": {},
   "outputs": [],
   "source": [
    "def can_diag_dom(A):\n",
    "    permutation_lst = list(permutations(range(len(A))))\n",
    "#     print(permutation_lst)\n",
    "    for order in permutation_lst:\n",
    "#         print(list(order))\n",
    "        new_A = A[list(order)]\n",
    "#         print(new_A)\n",
    "        # Check row interchanged matrix is diagonally dominant\n",
    "        if is_diag_dom(new_A):\n",
    "            print(\"The matrix can be made diagonally dominant by interchanging the rows\")\n",
    "            print(\"Diagonally dominant matrix : {}\".format(new_A))\n",
    "            return True\n",
    "        \n",
    "    print(\"The matrix cannot be made diagonally dominant by interchanging the rows\")\n",
    "    return False\n",
    "            "
   ]
  },
  {
   "cell_type": "code",
   "execution_count": 6,
   "id": "90eb6714",
   "metadata": {},
   "outputs": [
    {
     "name": "stdout",
     "output_type": "stream",
     "text": [
      "False\n",
      "True\n",
      "False\n"
     ]
    }
   ],
   "source": [
    "A=np.array([[1,2,3],[4,5,6],[7,8,9]])\n",
    "print(is_diag_dom(A))\n",
    "B=np.array([[3,-1],[2,5]])\n",
    "print(is_diag_dom(B))\n",
    "A=np.array([[4,2,1],[1,5,-3],[2,-7,9]])\n",
    "print(is_diag_dom(A))"
   ]
  },
  {
   "cell_type": "code",
   "execution_count": 7,
   "id": "fd12348f",
   "metadata": {},
   "outputs": [
    {
     "name": "stdout",
     "output_type": "stream",
     "text": [
      "The matrix cannot be made diagonally dominant by interchanging the rows\n",
      "False\n",
      "The matrix can be made diagonally dominant by interchanging the rows\n",
      "Diagonally dominant matrix : [[ 3 -1]\n",
      " [ 2  5]]\n",
      "True\n",
      "The matrix cannot be made diagonally dominant by interchanging the rows\n",
      "False\n"
     ]
    }
   ],
   "source": [
    "A=np.array([[1,2,3],[4,5,6],[7,8,9]])\n",
    "print(can_diag_dom(A))\n",
    "B=np.array([[3,-1],[2,5]])\n",
    "print(can_diag_dom(B))\n",
    "A=np.array([[4,2,1],[1,5,-3],[2,-7,9]])\n",
    "print(can_diag_dom(A))"
   ]
  },
  {
   "cell_type": "markdown",
   "id": "f4ebe93c",
   "metadata": {},
   "source": [
    "### Q2.ii) Write a function to generate Gauss Seidel iteration for a given square matrix. \n",
    "The function should also return the values of 1,∞ and Frobenius\n",
    "norms of the iteration matrix. Generate a random 4 × 4 matrix.\n",
    "Report the iteration matrix and its norm values returned by the function\n",
    "along with the input matrix."
   ]
  },
  {
   "cell_type": "code",
   "execution_count": 62,
   "id": "1781999c",
   "metadata": {},
   "outputs": [],
   "source": [
    "def GS_iteration(A):\n",
    "    # L, I , U initialization\n",
    "    N = len(A)\n",
    "    L = np.zeros((N,N))\n",
    "    I = np.identity(N)\n",
    "    U = np.zeros((N,N))\n",
    "    D = []\n",
    "    \n",
    "    # Get the values in diagonal\n",
    "    for i in range(N):\n",
    "        D.append(A[i][i])\n",
    "    \n",
    "    # L, I , U decomposition - A = L + I + U\n",
    "    for i in range(N):\n",
    "        for j in range(N):\n",
    "            if j<i:\n",
    "                L[i][j]=A[i][j]/D[i]\n",
    "            elif j>i:\n",
    "                U[i][j]=A[i][j]/D[i]\n",
    "          \n",
    "        \n",
    "#     print(\"L: \\n\",L)\n",
    "#     print(\"I: \\n\",I)\n",
    "#     print(\"U: \\n\",U)\n",
    "    \n",
    "    tmp1 = I + L\n",
    "    tmp2 = np.linalg.inv(tmp1)\n",
    "    tmp3 = np.multiply(tmp2,-1)\n",
    "    iter_matrix = np.matmul(tmp3, U)\n",
    "    \n",
    "#     print(\"tmp1 = I + L: \\n\",tmp1)\n",
    "#     print(\"tmp2 = np.linalg.inv(tmp1): \\n\",tmp2)\n",
    "#     print(\"tmp3 = np.multiply(tmp2,-1): \\n\",tmp3)\n",
    "    \n",
    "\n",
    "    \n",
    "    return iter_matrix,tmp2"
   ]
  },
  {
   "cell_type": "code",
   "execution_count": 40,
   "id": "99c2cda3",
   "metadata": {},
   "outputs": [
    {
     "name": "stdout",
     "output_type": "stream",
     "text": [
      "Random 4x4 matrix: \n",
      " [[0.89440207 0.39139425 0.62038123 0.47880836]\n",
      " [0.54517201 0.9161962  0.77019355 0.44327692]\n",
      " [0.30518769 0.71283264 0.44458207 0.22965642]\n",
      " [0.20935336 0.0328421  0.57909064 0.36279126]]\n",
      "L: \n",
      " [[0.         0.         0.         0.        ]\n",
      " [0.5950385  0.         0.         0.        ]\n",
      " [0.68645974 1.60337694 0.         0.        ]\n",
      " [0.57706286 0.09052616 1.59620893 0.        ]]\n",
      "I: \n",
      " [[1. 0. 0. 0.]\n",
      " [0. 1. 0. 0.]\n",
      " [0. 0. 1. 0.]\n",
      " [0. 0. 0. 1.]]\n",
      "U: \n",
      " [[0.         0.43760436 0.69362678 0.53533905]\n",
      " [0.         0.         0.8406426  0.48382314]\n",
      " [0.         0.         0.         0.516567  ]\n",
      " [0.         0.         0.         0.        ]]\n",
      "tmp1 = I + L: \n",
      " [[1.         0.         0.         0.        ]\n",
      " [0.5950385  1.         0.         0.        ]\n",
      " [0.68645974 1.60337694 1.         0.        ]\n",
      " [0.57706286 0.09052616 1.59620893 1.        ]]\n",
      "tmp2 = np.linalg.inv(tmp1): \n",
      " [[ 1.          0.          0.          0.        ]\n",
      " [-0.5950385   1.          0.          0.        ]\n",
      " [ 0.26761128 -1.60337694  1.          0.        ]\n",
      " [-0.95035983  2.46879843 -1.59620893  1.        ]]\n",
      "tmp3 = np.multiply(tmp2,-1): \n",
      " [[-1.         -0.         -0.         -0.        ]\n",
      " [ 0.5950385  -1.         -0.         -0.        ]\n",
      " [-0.26761128  1.60337694 -1.         -0.        ]\n",
      " [ 0.95035983 -2.46879843  1.59620893 -1.        ]]\n"
     ]
    },
    {
     "data": {
      "text/plain": [
       "array([[ 0.        , -0.43760436, -0.69362678, -0.53533905],\n",
       "       [ 0.        ,  0.26039144, -0.42790795, -0.16527579],\n",
       "       [ 0.        , -0.11710786,  1.16224461,  0.1159211 ],\n",
       "       [ 0.        ,  0.4158816 , -1.41618209,  0.13885177]])"
      ]
     },
     "execution_count": 40,
     "metadata": {},
     "output_type": "execute_result"
    }
   ],
   "source": [
    "A = np.random.rand(4,4)\n",
    "print(\"Random 4x4 matrix: \\n\",A)\n",
    "GS_iteration(A)"
   ]
  },
  {
   "cell_type": "code",
   "execution_count": 41,
   "id": "2a1db266",
   "metadata": {},
   "outputs": [],
   "source": [
    "def norm_1(A):\n",
    "    N=len(A)\n",
    "    col_sum = [0]*N\n",
    "    for i in range(N):\n",
    "        for j in range(N):\n",
    "            col_sum[j] += abs(A[i][j])\n",
    "            \n",
    "    return max(col_sum)\n",
    "            "
   ]
  },
  {
   "cell_type": "code",
   "execution_count": 44,
   "id": "212d599f",
   "metadata": {},
   "outputs": [
    {
     "name": "stdout",
     "output_type": "stream",
     "text": [
      "C: \n",
      " [[ 4  2  1]\n",
      " [ 1  5 -3]\n",
      " [ 2 -7  9]]\n"
     ]
    },
    {
     "data": {
      "text/plain": [
       "14"
      ]
     },
     "execution_count": 44,
     "metadata": {},
     "output_type": "execute_result"
    }
   ],
   "source": [
    "C=np.array([[4,2,1],[1,5,-3],[2,-7,9]])\n",
    "\n",
    "print(\"C: \\n\",C)\n",
    "norm_1(C)"
   ]
  },
  {
   "cell_type": "code",
   "execution_count": 50,
   "id": "9178b11d",
   "metadata": {},
   "outputs": [],
   "source": [
    "def norm_2(A):\n",
    "    N=len(A)\n",
    "    square_sum = 0\n",
    "    for i in range(N):\n",
    "        for j in range(N):\n",
    "            square_sum += A[i][j]**2\n",
    "            \n",
    "    return square_sum**0.5"
   ]
  },
  {
   "cell_type": "code",
   "execution_count": 52,
   "id": "1227c539",
   "metadata": {},
   "outputs": [
    {
     "name": "stdout",
     "output_type": "stream",
     "text": [
      "C: \n",
      " [[ 3 -1]\n",
      " [ 2  5]]\n"
     ]
    },
    {
     "data": {
      "text/plain": [
       "6.244997998398398"
      ]
     },
     "execution_count": 52,
     "metadata": {},
     "output_type": "execute_result"
    }
   ],
   "source": [
    "C=np.array([[3,-1],[2,5]])\n",
    "\n",
    "print(\"C: \\n\",C)\n",
    "norm_2(C)"
   ]
  },
  {
   "cell_type": "code",
   "execution_count": 45,
   "id": "60ecaf2d",
   "metadata": {},
   "outputs": [],
   "source": [
    "def norm_3(A):\n",
    "    N=len(A)\n",
    "    row_sum = [0]*N\n",
    "    for i in range(N):\n",
    "        for j in range(N):\n",
    "            row_sum[i] += abs(A[i][j])\n",
    "            \n",
    "    return max(row_sum)"
   ]
  },
  {
   "cell_type": "code",
   "execution_count": 47,
   "id": "8d3d1b70",
   "metadata": {},
   "outputs": [
    {
     "name": "stdout",
     "output_type": "stream",
     "text": [
      "C: \n",
      " [[ 4  2  1]\n",
      " [ 1  5 -3]\n",
      " [ 2 -7  9]]\n"
     ]
    },
    {
     "data": {
      "text/plain": [
       "18"
      ]
     },
     "execution_count": 47,
     "metadata": {},
     "output_type": "execute_result"
    }
   ],
   "source": [
    "C=np.array([[4,2,1],[1,5,-3],[2,-7,9]])\n",
    "\n",
    "print(\"C: \\n\",C)\n",
    "norm_3(C)"
   ]
  },
  {
   "cell_type": "markdown",
   "id": "b4faed99",
   "metadata": {},
   "source": [
    "### (iii) Repeat part (ii) for the Gauss Jacobi iteration."
   ]
  },
  {
   "cell_type": "code",
   "execution_count": 85,
   "id": "cd54ac60",
   "metadata": {},
   "outputs": [],
   "source": [
    "def GJ_iteration(A):\n",
    "    # L, I , U initialization\n",
    "    N = len(A)\n",
    "    L = np.zeros((N,N))\n",
    "    I = np.identity(N)\n",
    "    U = np.zeros((N,N))\n",
    "    D = []\n",
    "    \n",
    "    # Get the values in diagonal\n",
    "    for i in range(N):\n",
    "        D.append(A[i][i])\n",
    "    \n",
    "    # L, I , U decomposition - A = L + I + U\n",
    "    for i in range(N):\n",
    "        for j in range(N):\n",
    "            if j<i:\n",
    "                L[i][j]=A[i][j]/D[i]\n",
    "            elif j>i:\n",
    "                U[i][j]=A[i][j]/D[i]\n",
    "          \n",
    "        \n",
    "#     print(\"L: \\n\",L)\n",
    "#     print(\"I: \\n\",I)\n",
    "#     print(\"U: \\n\",U)\n",
    "    \n",
    "    return -L-U"
   ]
  },
  {
   "cell_type": "code",
   "execution_count": 54,
   "id": "3c043152",
   "metadata": {},
   "outputs": [
    {
     "name": "stdout",
     "output_type": "stream",
     "text": [
      "Random 4x4 matrix: \n",
      " [[0.42302892 0.64713311 0.05312413 0.42580581]\n",
      " [0.08875337 0.00497688 0.47900154 0.28152766]\n",
      " [0.55677987 0.58471817 0.55074726 0.87537099]\n",
      " [0.62884182 0.48419509 0.35403041 0.8748831 ]]\n",
      "L: \n",
      " [[ 0.          0.          0.          0.        ]\n",
      " [17.83313751  0.          0.          0.        ]\n",
      " [ 1.01095349  1.06168148  0.          0.        ]\n",
      " [ 0.7187724   0.55343976  0.40466025  0.        ]]\n",
      "I: \n",
      " [[1. 0. 0. 0.]\n",
      " [0. 1. 0. 0.]\n",
      " [0. 0. 1. 0.]\n",
      " [0. 0. 0. 1.]]\n",
      "U: \n",
      " [[ 0.          1.52976093  0.12558038  1.00656432]\n",
      " [ 0.          0.         96.24535922 56.56710614]\n",
      " [ 0.          0.          0.          1.58942412]\n",
      " [ 0.          0.          0.          0.        ]]\n"
     ]
    },
    {
     "data": {
      "text/plain": [
       "array([[ -0.        ,  -1.52976093,  -0.12558038,  -1.00656432],\n",
       "       [-17.83313751,  -0.        , -96.24535922, -56.56710614],\n",
       "       [ -1.01095349,  -1.06168148,  -0.        ,  -1.58942412],\n",
       "       [ -0.7187724 ,  -0.55343976,  -0.40466025,  -0.        ]])"
      ]
     },
     "execution_count": 54,
     "metadata": {},
     "output_type": "execute_result"
    }
   ],
   "source": [
    "A = np.random.rand(4,4)\n",
    "print(\"Random 4x4 matrix: \\n\",A)\n",
    "GJ_iteration(A)"
   ]
  },
  {
   "cell_type": "code",
   "execution_count": 56,
   "id": "20377247",
   "metadata": {},
   "outputs": [
    {
     "name": "stdout",
     "output_type": "stream",
     "text": [
      "Random 4x4 matrix: \n",
      " [[0.47468969 0.07766808 0.36152096 0.68413888]\n",
      " [0.98403711 0.77247109 0.38462241 0.06245002]\n",
      " [0.7467754  0.58656961 0.82082262 0.20289251]\n",
      " [0.55028426 0.0098881  0.69711275 0.55256012]]\n",
      "L: \n",
      " [[0.         0.         0.         0.        ]\n",
      " [1.27388212 0.         0.         0.        ]\n",
      " [0.90978901 0.7146119  0.         0.        ]\n",
      " [0.99588125 0.01789506 1.26160525 0.        ]]\n",
      "I: \n",
      " [[1. 0. 0. 0.]\n",
      " [0. 1. 0. 0.]\n",
      " [0. 0. 1. 0.]\n",
      " [0. 0. 0. 1.]]\n",
      "U: \n",
      " [[0.         0.16361864 0.7615943  1.44123392]\n",
      " [0.         0.         0.49791172 0.08084447]\n",
      " [0.         0.         0.         0.24718191]\n",
      " [0.         0.         0.         0.        ]]\n",
      "tmp1 = I + L: \n",
      " [[1.         0.         0.         0.        ]\n",
      " [1.27388212 1.         0.         0.        ]\n",
      " [0.90978901 0.7146119  1.         0.        ]\n",
      " [0.99588125 0.01789506 1.26160525 1.        ]]\n",
      "tmp2 = np.linalg.inv(tmp1): \n",
      " [[ 1.00000000e+00  0.00000000e+00  0.00000000e+00  0.00000000e+00]\n",
      " [-1.27388212e+00  1.00000000e+00 -0.00000000e+00 -0.00000000e+00]\n",
      " [ 5.42309010e-04 -7.14611896e-01  1.00000000e+00  0.00000000e+00]\n",
      " [-9.73769230e-01  8.83663052e-01 -1.26160525e+00  1.00000000e+00]]\n",
      "tmp3 = np.multiply(tmp2,-1): \n",
      " [[-1.00000000e+00 -0.00000000e+00 -0.00000000e+00 -0.00000000e+00]\n",
      " [ 1.27388212e+00 -1.00000000e+00  0.00000000e+00  0.00000000e+00]\n",
      " [-5.42309010e-04  7.14611896e-01 -1.00000000e+00 -0.00000000e+00]\n",
      " [ 9.73769230e-01 -8.83663052e-01  1.26160525e+00 -1.00000000e+00]]\n",
      "GS_iteration matrix: \n",
      " [[ 0.00000000e+00 -1.63618638e-01 -7.61594296e-01 -1.44123392e+00]\n",
      " [ 0.00000000e+00  2.08430858e-01  4.72269634e-01  1.75511766e+00]\n",
      " [ 0.00000000e+00 -8.87318616e-05  3.55400622e-01 -1.90191086e-01]\n",
      " [ 0.00000000e+00  1.59326795e-01  3.01630897e-01  1.64383598e+00]]\n",
      "Norm 1: \n",
      " 5.03037864473423\n",
      "Frobenius Norm: \n",
      " 3.001985572897997\n",
      "Norm 3: \n",
      " 2.4358181507814507\n"
     ]
    }
   ],
   "source": [
    "A = np.random.rand(4,4)\n",
    "print(\"Random 4x4 matrix: \\n\",A)\n",
    "result,tmp = GS_iteration(A)\n",
    "print(\"GS_iteration matrix: \\n\", result)\n",
    "print(\"Norm 1: \\n\", norm_1(result))\n",
    "print(\"Frobenius Norm: \\n\", norm_2(result))\n",
    "print(\"Norm 3: \\n\", norm_3(result))"
   ]
  },
  {
   "cell_type": "code",
   "execution_count": 57,
   "id": "38e9ec7d",
   "metadata": {},
   "outputs": [
    {
     "name": "stdout",
     "output_type": "stream",
     "text": [
      "Random 4x4 matrix: \n",
      " [[0.18555686 0.69298259 0.64736743 0.04216195]\n",
      " [0.41123191 0.99989315 0.39108323 0.3018587 ]\n",
      " [0.13223849 0.23603213 0.92394961 0.17158608]\n",
      " [0.0230949  0.24984723 0.07034604 0.36144684]]\n",
      "L: \n",
      " [[0.         0.         0.         0.        ]\n",
      " [0.41127585 0.         0.         0.        ]\n",
      " [0.14312305 0.25545996 0.         0.        ]\n",
      " [0.06389569 0.691242   0.19462348 0.        ]]\n",
      "I: \n",
      " [[1. 0. 0. 0.]\n",
      " [0. 1. 0. 0.]\n",
      " [0. 0. 1. 0.]\n",
      " [0. 0. 0. 1.]]\n",
      "U: \n",
      " [[0.         3.73461056 3.48878204 0.2272185 ]\n",
      " [0.         0.         0.39112502 0.30189096]\n",
      " [0.         0.         0.         0.18570935]\n",
      " [0.         0.         0.         0.        ]]\n",
      "GS_iteration matrix: \n",
      " [[-0.         -3.73461056 -3.48878204 -0.2272185 ]\n",
      " [-0.41127585 -0.         -0.39112502 -0.30189096]\n",
      " [-0.14312305 -0.25545996 -0.         -0.18570935]\n",
      " [-0.06389569 -0.691242   -0.19462348 -0.        ]]\n",
      "Norm 1: \n",
      " 4.681312518286023\n",
      "Frobenius Norm: \n",
      " 5.217644835119604\n",
      "Norm 3: \n",
      " 7.450611109280567\n"
     ]
    }
   ],
   "source": [
    "A = np.random.rand(4,4)\n",
    "print(\"Random 4x4 matrix: \\n\",A)\n",
    "result = GJ_iteration(A)\n",
    "print(\"GS_iteration matrix: \\n\", result)\n",
    "print(\"Norm 1: \\n\", norm_1(result))\n",
    "print(\"Frobenius Norm: \\n\", norm_2(result))\n",
    "print(\"Norm 3: \\n\", norm_3(result))"
   ]
  },
  {
   "cell_type": "markdown",
   "id": "ff476853",
   "metadata": {},
   "source": [
    "### (iv) Write a function that perform Gauss Seidel iterations. \n",
    "Generate a random 4 × 4 matrix A and a suitable random vector b ∈ R4 and report the results of passing this matrix to the functions written above.\n",
    "Write down the first ten iterates of Gauss Seidel algorithm. Does it\n",
    "converge? Generate a plot of ∥xk+1 − xk∥2 for the first 10 iterations.\n",
    "Take a screenshot and paste it in the assignment document. (1)\n",
    "Deliverable(s): The input matrix and the vector, the 10 successive\n",
    "iterates and the plot"
   ]
  },
  {
   "cell_type": "code",
   "execution_count": 77,
   "id": "45f92e16",
   "metadata": {},
   "outputs": [],
   "source": [
    "def vect_norm_2(x):\n",
    "    N=len(x)\n",
    "    \n",
    "    square_sum = 0\n",
    "    for i in range(N):\n",
    "        square_sum += x[i]**2\n",
    "            \n",
    "    return square_sum**0.5\n",
    "        "
   ]
  },
  {
   "cell_type": "code",
   "execution_count": 78,
   "id": "c834edb9",
   "metadata": {},
   "outputs": [],
   "source": [
    "def apply_GS(A,b,n=10):\n",
    "    N = len(b)\n",
    "    x = [0]*N\n",
    "    tmp_x = [0]*N\n",
    "    diff_vec_norm = []\n",
    "    \n",
    "    for i in range(n):\n",
    "        C,C2 = GS_iteration(A)\n",
    "        tmp1 = np.matmul(C,x)\n",
    "        tmp2 = np.matmul(C2,b)\n",
    "        \n",
    "        tmp_x = x\n",
    "        x = tmp1 + tmp2\n",
    "        diff_x = x - tmp_x\n",
    "        diff_vec_norm.append(vect_norm_2(diff_x))\n",
    "        \n",
    "        print(\"Iteration: \",i+1)\n",
    "        print(\"X = \\n\",x)\n",
    "        \n",
    "    return x,diff_vec_norm\n",
    "        \n",
    "    "
   ]
  },
  {
   "cell_type": "code",
   "execution_count": 79,
   "id": "1fea5ca3",
   "metadata": {},
   "outputs": [
    {
     "name": "stdout",
     "output_type": "stream",
     "text": [
      "Random 4x4 matrix: \n",
      " [[0.19324773 0.45980187 0.11964718 0.69836178]\n",
      " [0.25918718 0.64047834 0.24723603 0.23240717]\n",
      " [0.40642848 0.93426151 0.84734846 0.13425286]\n",
      " [0.37988218 0.0526422  0.32869123 0.34077902]]\n",
      "Random Vector: \n",
      " [0.98146814 0.71036472 0.75660719 0.14515545]\n",
      "Iteration:  1\n",
      "X = \n",
      " [ 0.98146814  0.31318663 -0.05946181 -0.9399598 ]\n",
      "Iteration:  2\n",
      "X = \n",
      " [ 3.66994806 -0.41074892 -0.40186805 -3.49484167]\n",
      "Iteration:  3\n",
      "X = \n",
      " [ 14.83730685  -3.87067585  -1.53865644 -14.3126734 ]\n",
      "Iteration:  4\n",
      "X = \n",
      " [ 62.86713225 -18.94303334  -6.24373446 -60.98724569]\n",
      "Iteration:  5\n",
      "X = \n",
      " [ 270.31580614  -84.14003536  -26.46658919 -262.66300194]\n",
      "Iteration:  6\n",
      "X = \n",
      " [ 1166.78146242  -365.93207732  -113.80511842 -1134.22419501]\n",
      "Iteration:  7\n",
      "X = \n",
      " [ 5040.99696486 -1583.76671349  -491.22470845 -4900.83353721]\n",
      "Iteration:  8\n",
      "X = \n",
      " [ 21784.14771129  -6846.88202953  -2122.30003599 -21178.9557591 ]\n",
      "Iteration:  9\n",
      "X = \n",
      " [ 94142.88847822 -29592.45275044  -9171.29768677 -91527.99262526]\n",
      "Iteration:  10\n",
      "X = \n",
      " [ 406855.11514495 -127891.81879393  -39634.89394023 -395554.90026586]\n",
      "Result: \n",
      " [ 406855.11514495 -127891.81879393  -39634.89394023 -395554.90026586]\n",
      "diff_x: \n",
      " [1.3958602026746365, 3.7942944528385594, 15.968680842228519, 68.80910946666116, 297.26701109249865, 1284.6417242777704, 5551.797766861156, 23993.147970667545, 103691.00109784275, 448120.6236468264]\n"
     ]
    }
   ],
   "source": [
    "A = np.random.rand(4,4)\n",
    "b = np.random.rand(4)\n",
    "print(\"Random 4x4 matrix: \\n\",A)\n",
    "print(\"Random Vector: \\n\",b)\n",
    "result,diff_x = apply_GS(A,b)\n",
    "print(\"Result: \\n\", result)\n",
    "print(\"diff_x: \\n\", diff_x)"
   ]
  },
  {
   "cell_type": "code",
   "execution_count": 82,
   "id": "53d57106",
   "metadata": {},
   "outputs": [
    {
     "data": {
      "image/png": "[encoded data removed]",
      "text/plain": [
       "<Figure size 432x288 with 1 Axes>"
      ]
     },
     "metadata": {
      "needs_background": "light"
     },
     "output_type": "display_data"
    }
   ],
   "source": [
    "import matplotlib.pyplot as plt\n",
    "plt.plot(diff_x)\n",
    "plt.ylabel('Error')\n",
    "plt.xlabel('Iteration')\n",
    "plt.show()"
   ]
  },
  {
   "cell_type": "markdown",
   "id": "a8ff04fa",
   "metadata": {},
   "source": [
    "### (v) Repeat part (iv) for the Gauss Jacobi method. \n",
    "\n",
    "Deliverable(s): The input matrix and the vector, the 10 successive\n",
    "iterates and the plot"
   ]
  },
  {
   "cell_type": "code",
   "execution_count": 83,
   "id": "f4699cf0",
   "metadata": {},
   "outputs": [],
   "source": [
    "def apply_GJ(A,b,n=10):\n",
    "    N = len(b)\n",
    "    x = [0]*N\n",
    "    tmp_x = [0]*N\n",
    "    diff_vec_norm = []\n",
    "    \n",
    "    for i in range(n):\n",
    "        C = GJ_iteration(A)\n",
    "        tmp1 = np.matmul(C,x)\n",
    "        \n",
    "        tmp_x = x\n",
    "        x = tmp1 + b\n",
    "        diff_x = x - tmp_x\n",
    "        diff_vec_norm.append(vect_norm_2(diff_x))\n",
    "        \n",
    "        print(\"Iteration: \",i+1)\n",
    "        print(\"X = \\n\",x)\n",
    "        \n",
    "    return x,diff_vec_norm"
   ]
  },
  {
   "cell_type": "code",
   "execution_count": 86,
   "id": "81def2c1",
   "metadata": {},
   "outputs": [
    {
     "name": "stdout",
     "output_type": "stream",
     "text": [
      "Random 4x4 matrix: \n",
      " [[5.64386749e-01 7.81231937e-01 4.24221442e-01 6.44968758e-01]\n",
      " [6.28425792e-01 8.94888036e-01 6.03613438e-01 9.72497710e-01]\n",
      " [9.31398577e-02 9.82079265e-01 3.49818186e-01 5.35886066e-01]\n",
      " [1.04518654e-01 4.37689467e-01 3.70224871e-04 6.26642814e-01]]\n",
      "Random Vector: \n",
      " [0.74407137 0.55459531 0.60745097 0.94404768]\n",
      "Iteration:  1\n",
      "X = \n",
      " [0.74407137 0.55459531 0.60745097 0.94404768]\n",
      "Iteration:  2\n",
      "X = \n",
      " [-1.55903471 -1.40357525 -2.59381556  0.43221741]\n",
      "Iteration:  3\n",
      "X = \n",
      " [4.1426332  2.92927127 4.30082995 2.18596507]\n",
      "Iteration:  4\n",
      "X = \n",
      " [ -9.04145909  -7.63103465 -12.06784506  -1.79544899]\n",
      "Iteration:  5\n",
      "X = \n",
      " [22.42965334 16.994942   27.18856535  7.78924296]\n",
      "Iteration:  6\n",
      "X = \n",
      " [-52.11822961 -42.00019977 -65.00841055 -14.68349953]\n",
      "Iteration:  7\n",
      "X = \n",
      " [124.52489651  96.96001818 154.88900293  39.01109232]\n",
      "Iteration:  8\n",
      "X = \n",
      " [-294.47270138 -233.76068175 -364.51409075  -87.64054268]\n",
      "Iteration:  9\n",
      "X = \n",
      " [698.4596286  548.45561884 869.52742712 213.54910388]\n",
      "Iteration:  10\n",
      "X = \n",
      " [-1656.05550041 -1308.50804903 -2052.22839283  -499.14503213]\n",
      "Result: \n",
      " [-1656.05550041 -1308.50804903 -2052.22839283  -499.14503213]\n",
      "diff_x: \n",
      " [1.456516685079908, 4.4326975069206735, 10.094272807564641, 23.85635198848301, 56.83134453776771, 134.32468174309875, 318.9838833342071, 755.4835397107274, 1792.0241694423107, 4246.957211876368]\n"
     ]
    }
   ],
   "source": [
    "A = np.random.rand(4,4)\n",
    "b = np.random.rand(4)\n",
    "print(\"Random 4x4 matrix: \\n\",A)\n",
    "print(\"Random Vector: \\n\",b)\n",
    "result,diff_x = apply_GJ(A,b)\n",
    "print(\"Result: \\n\", result)\n",
    "print(\"diff_x: \\n\", diff_x)"
   ]
  },
  {
   "cell_type": "code",
   "execution_count": 87,
   "id": "cc462546",
   "metadata": {},
   "outputs": [
    {
     "data": {
      "image/png": "[encoded data removed]",
      "text/plain": [
       "<Figure size 432x288 with 1 Axes>"
      ]
     },
     "metadata": {
      "needs_background": "light"
     },
     "output_type": "display_data"
    }
   ],
   "source": [
    "import matplotlib.pyplot as plt\n",
    "plt.plot(diff_x)\n",
    "plt.ylabel('Error')\n",
    "plt.xlabel('Iteration')\n",
    "plt.show()"
   ]
  },
  {
   "cell_type": "code",
   "execution_count": null,
   "id": "44a886e8",
   "metadata": {},
   "outputs": [],
   "source": []
  }
 ],
 "metadata": {
  "kernelspec": {
   "display_name": "Python 3",
   "language": "python",
   "name": "python3"
  },
  "language_info": {
   "codemirror_mode": {
    "name": "ipython",
    "version": 3
   },
   "file_extension": ".py",
   "mimetype": "text/x-python",
   "name": "python",
   "nbconvert_exporter": "python",
   "pygments_lexer": "ipython3",
   "version": "3.8.8"
  }
 },
 "nbformat": 4,
 "nbformat_minor": 5
}
