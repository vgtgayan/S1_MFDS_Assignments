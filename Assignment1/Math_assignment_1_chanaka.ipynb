{
 "cells": [
  {
   "cell_type": "markdown",
   "id": "3f0e3e20",
   "metadata": {},
   "source": [
    "Q1 "
   ]
  },
  {
   "cell_type": "markdown",
   "id": "ec15b4e8",
   "metadata": {},
   "source": [
    "-------Q1 (i)--------"
   ]
  },
  {
   "cell_type": "markdown",
   "id": "3a8eab06",
   "metadata": {},
   "source": [
    " Addition"
   ]
  },
  {
   "cell_type": "code",
   "execution_count": 223,
   "id": "0960f576",
   "metadata": {},
   "outputs": [
    {
     "name": "stdout",
     "output_type": "stream",
     "text": [
      "\f",
      "\n"
     ]
    }
   ],
   "source": [
    "clear"
   ]
  },
  {
   "cell_type": "code",
   "execution_count": null,
   "id": "18660e1b",
   "metadata": {},
   "outputs": [],
   "source": [
    "import time\n",
    "start_time = time.time()\n",
    "result   = 0\n",
    "for i in range (1,(10**6)+1):\n",
    "    result = result + i\n",
    "end_time = time.time()\n",
    "consumed_time = end_time-start_time\n",
    "consumed_time_per_inst = consumed_time/(10**6)\n",
    "print(\"Addition: Time Taken Total:\",consumed_time)\n",
    "print(\"Addition: Time Taken per operation:\",consumed_time_per_inst)"
   ]
  },
  {
   "cell_type": "markdown",
   "id": "307cd786",
   "metadata": {},
   "source": [
    "Multiplication\n"
   ]
  },
  {
   "cell_type": "code",
   "execution_count": 24,
   "id": "f0ce8ef8",
   "metadata": {},
   "outputs": [
    {
     "ename": "KeyboardInterrupt",
     "evalue": "",
     "output_type": "error",
     "traceback": [
      "\u001b[1;31m---------------------------------------------------------------------------\u001b[0m",
      "\u001b[1;31mKeyboardInterrupt\u001b[0m                         Traceback (most recent call last)",
      "\u001b[1;32m<ipython-input-24-b903c807d09b>\u001b[0m in \u001b[0;36m<module>\u001b[1;34m\u001b[0m\n\u001b[0;32m      3\u001b[0m \u001b[0mresult\u001b[0m   \u001b[1;33m=\u001b[0m \u001b[1;36m1\u001b[0m\u001b[1;33m\u001b[0m\u001b[1;33m\u001b[0m\u001b[0m\n\u001b[0;32m      4\u001b[0m \u001b[1;32mfor\u001b[0m \u001b[0mi\u001b[0m \u001b[1;32min\u001b[0m \u001b[0mrange\u001b[0m \u001b[1;33m(\u001b[0m\u001b[1;36m1\u001b[0m\u001b[1;33m,\u001b[0m\u001b[1;33m(\u001b[0m\u001b[1;36m10\u001b[0m\u001b[1;33m**\u001b[0m\u001b[1;36m6\u001b[0m\u001b[1;33m)\u001b[0m\u001b[1;33m+\u001b[0m\u001b[1;36m1\u001b[0m\u001b[1;33m)\u001b[0m\u001b[1;33m:\u001b[0m\u001b[1;33m\u001b[0m\u001b[1;33m\u001b[0m\u001b[0m\n\u001b[1;32m----> 5\u001b[1;33m     \u001b[0mresult\u001b[0m \u001b[1;33m=\u001b[0m \u001b[0mresult\u001b[0m \u001b[1;33m*\u001b[0m \u001b[0mi\u001b[0m\u001b[1;33m\u001b[0m\u001b[1;33m\u001b[0m\u001b[0m\n\u001b[0m\u001b[0;32m      6\u001b[0m \u001b[0mend_time\u001b[0m \u001b[1;33m=\u001b[0m \u001b[0mtime\u001b[0m\u001b[1;33m.\u001b[0m\u001b[0mtime\u001b[0m\u001b[1;33m(\u001b[0m\u001b[1;33m)\u001b[0m\u001b[1;33m\u001b[0m\u001b[1;33m\u001b[0m\u001b[0m\n\u001b[0;32m      7\u001b[0m \u001b[0mconsumed_time\u001b[0m \u001b[1;33m=\u001b[0m \u001b[0mend_time\u001b[0m\u001b[1;33m-\u001b[0m\u001b[0mstart_time\u001b[0m\u001b[1;33m\u001b[0m\u001b[1;33m\u001b[0m\u001b[0m\n",
      "\u001b[1;31mKeyboardInterrupt\u001b[0m: "
     ]
    }
   ],
   "source": [
    "import time\n",
    "start_time = time.time()\n",
    "result   = 1\n",
    "for i in range (1,(10**6)+1):\n",
    "    result = result * i\n",
    "end_time = time.time()\n",
    "consumed_time = end_time-start_time\n",
    "consumed_time_per_inst = consumed_time/(10**6)\n",
    "print(\"Multiplication: Time Taken Total:\",consumed_time)\n",
    "print(\"Multiplication: Time Taken per operation:\",consumed_time_per_inst)"
   ]
  },
  {
   "cell_type": "markdown",
   "id": "e526b228",
   "metadata": {},
   "source": [
    "Division"
   ]
  },
  {
   "cell_type": "code",
   "execution_count": null,
   "id": "e842f410",
   "metadata": {},
   "outputs": [],
   "source": [
    "import time\n",
    "start_time = time.time()\n",
    "result   = 1\n",
    "for i in range (1,(10**6)+1):\n",
    "    result = result / i\n",
    "end_time = time.time()\n",
    "consumed_time = end_time-start_time\n",
    "consumed_time_per_inst = consumed_time/(10**6)\n",
    "print(\"Division: Time Taken Total:\",consumed_time)\n",
    "print(\"Division: Time Taken per operation:\",consumed_time_per_inst)"
   ]
  },
  {
   "cell_type": "markdown",
   "id": "34ac5ec1",
   "metadata": {},
   "source": [
    "   -------Q1 (ii)--------"
   ]
  },
  {
   "cell_type": "code",
   "execution_count": 349,
   "id": "42e8d6e6",
   "metadata": {
    "scrolled": true
   },
   "outputs": [],
   "source": [
    "import math\n",
    "from math import log10, floor\n",
    "\n",
    "def round_for_n_sig_figures(number:float,sig_digits):\n",
    "    if number==0:\n",
    "        return 0\n",
    "    else:\n",
    "        return round(number,sig_digits-int(math.floor(math.log10(abs(number)))) - 1)\n",
    "\n",
    "def guass_elimination(A:list,sig_digits:int=5,enable_pivot:bool = False,debug=False):\n",
    "    #print(\"Starting Guasian Elimination on \",A,\" Significant Digits=\",sig_digits,\" Pivoting:\",enable_pivot)\n",
    "    no_of_rows= len(A)\n",
    "    no_of_cols = len(A[0])\n",
    "    no_of_div = 0;\n",
    "    no_of_add = 0;\n",
    "    no_of_mul = 0;    \n",
    "    if debug==True:\n",
    "        print(\"No of Cols:\",no_of_cols,\" Rows:\",no_of_rows)\n",
    "    i_col=0;\n",
    "   \n",
    "    for i_col in range (0,no_of_cols-1): \n",
    "        if enable_pivot==True :            \n",
    "            max_pivot = abs(A[i_col][i_col])\n",
    "            max_index = i_col\n",
    "            for i_row in range (i_col,no_of_rows):\n",
    "                if(max_pivot<abs(A[i_row][i_col])):\n",
    "                    max_index = i_row\n",
    "                    max_pivot = abs(A[i_row][i_col])\n",
    "            if  max_index!= i_col:\n",
    "                if debug:\n",
    "                    print(\"Pivot changed before \",A)\n",
    "                buff = A[i_col]\n",
    "                A[i_col] = A[max_index]\n",
    "                A[max_index] = buff                                \n",
    "                if debug:\n",
    "                    print(\"Pivot changed After\",A)                \n",
    "\n",
    "                \n",
    "        for i_row in range (i_col+1,no_of_rows):\n",
    "            if(A[i_col][i_col]==0):\n",
    "                continue\n",
    "            m = A[i_row][i_col]/A[i_col][i_col]\n",
    "            m = round_for_n_sig_figures(m,sig_digits) # (n-1) divisions            \n",
    "            no_of_div=no_of_div+1\n",
    "            if debug:\n",
    "                print(\"m is\",m)\n",
    "            for j in range (i_col,no_of_cols): \n",
    "                A[i_row][j]=A[i_row][j] - round_for_n_sig_figures(A[i_col][j]*m,sig_digits)   # n multiplications , n substractions\n",
    "                A[i_row][j]=round_for_n_sig_figures(A[i_row][j],sig_digits)\n",
    "                no_of_add = no_of_add + 1\n",
    "                no_of_mul = no_of_mul + 1\n",
    "    \n",
    "    #print(\"REF is \",A)\n",
    "    print(\"No of Divisions\",no_of_div,\" Additions\",no_of_add,\" Multiplications\",no_of_mul )    \n",
    "    \n"
   ]
  },
  {
   "cell_type": "code",
   "execution_count": null,
   "id": "337ed3ad",
   "metadata": {},
   "outputs": [],
   "source": []
  },
  {
   "cell_type": "code",
   "execution_count": 331,
   "id": "ff5d68c6",
   "metadata": {},
   "outputs": [
    {
     "name": "stdout",
     "output_type": "stream",
     "text": [
      "No of Divisions 3  Additions 8  Multiplications 8\n"
     ]
    }
   ],
   "source": [
    "# TRIAL1\n",
    "A1 = [[1, 1, 1], \n",
    "    [2, 3, 7],\n",
    "    [4, 6, -2]]\n",
    "guass_elimination(A1,5,False,False) #without Pivot"
   ]
  },
  {
   "cell_type": "code",
   "execution_count": 322,
   "id": "1f2f0408",
   "metadata": {},
   "outputs": [
    {
     "name": "stdout",
     "output_type": "stream",
     "text": [
      "No of Divisions 3  Additions 8  Multiplications 8\n"
     ]
    }
   ],
   "source": [
    "# TRIAL2\n",
    "A2 = [[1, 1, 1], \n",
    "    [2, 3, 7],\n",
    "    [4, 6, -2]]\n",
    "\n",
    "guass_elimination(A2,5,True,False) # With pivot"
   ]
  },
  {
   "cell_type": "code",
   "execution_count": 323,
   "id": "79ebbd5d",
   "metadata": {},
   "outputs": [
    {
     "name": "stdout",
     "output_type": "stream",
     "text": [
      "No of Divisions 6  Additions 26  Multiplications 26\n"
     ]
    }
   ],
   "source": [
    "# TRIAL3\n",
    "A3 = [[5, 1, 1,4,10], \n",
    "    [2, 7, 7, 2,20],\n",
    "    [4, 6, -9,1,40],\n",
    "    [8, 2, 1,10,80]]\n",
    "guass_elimination(A3,5,False,False)#without Pivot"
   ]
  },
  {
   "cell_type": "code",
   "execution_count": 221,
   "id": "d8c22167",
   "metadata": {},
   "outputs": [
    {
     "name": "stdout",
     "output_type": "stream",
     "text": [
      "Starting Guasian Elimination on  [[5, 1, 1, 4, 10], [2, 7, 7, 2, 20], [4, 6, -9, 1, 40], [8, 2, 1, 10, 80]]  Significant Digits= 5  Pivoting: True\n",
      "REF is  [[8, 2, 1, 10, 80], [0, 6.5, 6.75, -0.5, 0], [0, 0, -14.692, -3.6154, 0], [0, 0, 0, -2.4254, -40.0]]\n",
      "No of Divisions 6  Additions 26  Multiplications 26\n"
     ]
    }
   ],
   "source": [
    "# TRIAL4\n",
    "A4 = [[5, 1, 1,4,10], \n",
    "    [2, 7, 7, 2,20],\n",
    "    [4, 6, -9,1,40],\n",
    "    [8, 2, 1,10,80]]\n",
    "guass_elimination(A4,5,True,False)#with Pivot"
   ]
  },
  {
   "cell_type": "markdown",
   "id": "08e66776",
   "metadata": {},
   "source": [
    "-------Q1 (iii)--------"
   ]
  },
  {
   "cell_type": "code",
   "execution_count": 335,
   "id": "0c664f62",
   "metadata": {},
   "outputs": [],
   "source": [
    "import random\n",
    "def generate_random_A(size:int):\n",
    "    A=[]\n",
    "    randomlist = []\n",
    "    for j in range(0,size):\n",
    "        randomlist = []\n",
    "        for k in range(0,size):\n",
    "            n=round_for_n_sig_figures(10*random.random(),5)   \n",
    "            randomlist.append(n)\n",
    "        A.append(randomlist)\n",
    "    return A\n",
    "\n",
    "def generate_random_B(size:int):\n",
    "    B = []\n",
    "    for i in range(0,size):\n",
    "        n=round_for_n_sig_figures(10*random.random(),5)   \n",
    "        B.append(n)\n",
    "    return B\n",
    "\n",
    "def generate_augemented(A:list,B:list):\n",
    "    import numpy\n",
    "    AT=list(numpy.transpose(A))\n",
    "    BT=list(numpy.transpose(B))\n",
    "    AT.append(BT)\n",
    "    AB=numpy.transpose(AT)\n",
    "    return AB\n",
    "\n"
   ]
  },
  {
   "cell_type": "code",
   "execution_count": 333,
   "id": "3940d826",
   "metadata": {},
   "outputs": [
    {
     "name": "stdout",
     "output_type": "stream",
     "text": [
      "For  100 x 100\n",
      "No of Divisions 4950  Additions 338250  Multiplications 338250\n",
      "For  200 x 200\n",
      "No of Divisions 19900  Additions 2686500  Multiplications 2686500\n",
      "For  300 x 300\n",
      "No of Divisions 44850  Additions 9044750  Multiplications 9044750\n",
      "For  400 x 400\n",
      "No of Divisions 79800  Additions 21413000  Multiplications 21413000\n",
      "For  500 x 500\n",
      "No of Divisions 124750  Additions 41791250  Multiplications 41791250\n",
      "For  600 x 600\n",
      "No of Divisions 179700  Additions 72179500  Multiplications 72179500\n",
      "For  700 x 700\n",
      "No of Divisions 244650  Additions 114577750  Multiplications 114577750\n",
      "For  800 x 800\n",
      "No of Divisions 319600  Additions 170986000  Multiplications 170986000\n",
      "For  900 x 900\n",
      "No of Divisions 404550  Additions 243404250  Multiplications 243404250\n",
      "For  1000 x 1000\n",
      "No of Divisions 499500  Additions 333832500  Multiplications 333832500\n"
     ]
    }
   ],
   "source": [
    "# Without Pivoting\n",
    "for i in range(100,1100,100):\n",
    "    A=generate_random_A(i)\n",
    "    B=generate_random_B(i)\n",
    "    AB=generate_augemented(A,B)\n",
    "    print(\"For \",i,\"x\",i)\n",
    "    guass_elimination(AB,5,False,False)"
   ]
  },
  {
   "cell_type": "code",
   "execution_count": 334,
   "id": "96f795f1",
   "metadata": {},
   "outputs": [
    {
     "name": "stdout",
     "output_type": "stream",
     "text": [
      "For  100 x 100\n",
      "No of Divisions 4950  Additions 338250  Multiplications 338250\n",
      "For  200 x 200\n",
      "No of Divisions 19900  Additions 2686500  Multiplications 2686500\n",
      "For  300 x 300\n",
      "No of Divisions 44850  Additions 9044750  Multiplications 9044750\n",
      "For  400 x 400\n",
      "No of Divisions 79800  Additions 21413000  Multiplications 21413000\n",
      "For  500 x 500\n",
      "No of Divisions 124750  Additions 41791250  Multiplications 41791250\n",
      "For  600 x 600\n",
      "No of Divisions 179700  Additions 72179500  Multiplications 72179500\n",
      "For  700 x 700\n",
      "No of Divisions 244650  Additions 114577750  Multiplications 114577750\n",
      "For  800 x 800\n",
      "No of Divisions 319600  Additions 170986000  Multiplications 170986000\n",
      "For  900 x 900\n",
      "No of Divisions 404550  Additions 243404250  Multiplications 243404250\n",
      "For  1000 x 1000\n",
      "No of Divisions 499500  Additions 333832500  Multiplications 333832500\n"
     ]
    }
   ],
   "source": [
    " #With Pivoting\n",
    "for i in range(100,1100,100):\n",
    "    A=generate_random_A(i)\n",
    "    B=generate_random_B(i)\n",
    "    AB=generate_augemented(A,B)\n",
    "    print(\"For \",i,\"x\",i)\n",
    "    guass_elimination(AB,5,True,False)"
   ]
  },
  {
   "cell_type": "code",
   "execution_count": 358,
   "id": "77c8752d",
   "metadata": {},
   "outputs": [
    {
     "name": "stdout",
     "output_type": "stream",
     "text": [
      "No of Divisions 42  Additions 364  Multiplications 364\n",
      "For  10 x 10  Pivot Time taken 0.0\n",
      "No of Divisions 42  Additions 364  Multiplications 364\n",
      "For  10 x 10  Non-Pivot Time taken 0.0\n",
      "No of Divisions 162  Additions 2654  Multiplications 2654\n",
      "For  20 x 20  Pivot Time taken 0.062491416931152344\n",
      "No of Divisions 171  Additions 2713  Multiplications 2713\n",
      "For  20 x 20  Non-Pivot Time taken 0.03774738311767578\n",
      "No of Divisions 407  Additions 9229  Multiplications 9229\n",
      "For  30 x 30  Pivot Time taken 0.1783454418182373\n",
      "No of Divisions 418  Additions 9304  Multiplications 9304\n",
      "For  30 x 30  Non-Pivot Time taken 0.12236952781677246\n",
      "No of Divisions 660  Additions 20620  Multiplications 20620\n",
      "For  40 x 40  Pivot Time taken 0.38532280921936035\n",
      "No of Divisions 718  Additions 21352  Multiplications 21352\n",
      "For  40 x 40  Non-Pivot Time taken 0.2783796787261963\n",
      "No of Divisions 1054  Additions 40424  Multiplications 40424\n",
      "For  50 x 50  Pivot Time taken 0.7547426223754883\n",
      "No of Divisions 1184  Additions 42326  Multiplications 42326\n",
      "For  50 x 50  Non-Pivot Time taken 0.6724698543548584\n",
      "No of Divisions 1539  Additions 69977  Multiplications 69977\n",
      "For  60 x 60  Pivot Time taken 1.3289597034454346\n",
      "No of Divisions 1726  Additions 72982  Multiplications 72982\n",
      "For  60 x 60  Non-Pivot Time taken 1.2772297859191895\n",
      "No of Divisions 2184  Additions 112952  Multiplications 112952\n",
      "For  70 x 70  Pivot Time taken 2.156979560852051\n",
      "No of Divisions 2386  Additions 116226  Multiplications 116226\n",
      "For  70 x 70  Non-Pivot Time taken 2.0003445148468018\n",
      "No of Divisions 2754  Additions 165274  Multiplications 165274\n",
      "For  80 x 80  Pivot Time taken 3.0062525272369385\n",
      "No of Divisions 3104  Additions 172414  Multiplications 172414\n",
      "For  80 x 80  Non-Pivot Time taken 3.171029806137085\n",
      "No of Divisions 3444  Additions 233324  Multiplications 233324\n",
      "For  90 x 90  Pivot Time taken 4.523694753646851\n",
      "No of Divisions 3928  Additions 244640  Multiplications 244640\n",
      "For  90 x 90  Non-Pivot Time taken 4.914910316467285\n",
      "No of Divisions 4209  Additions 317749  Multiplications 317749\n",
      "For  100 x 100  Pivot Time taken 5.843993663787842\n",
      "No of Divisions 4875  Additions 336425  Multiplications 336425\n",
      "For  100 x 100  Non-Pivot Time taken 6.404944896697998\n",
      "No of Divisions 5215  Additions 427525  Multiplications 427525\n",
      "For  110 x 110  Pivot Time taken 7.821213006973267\n",
      "No of Divisions 5932  Additions 447558  Multiplications 447558\n",
      "For  110 x 110  Non-Pivot Time taken 9.357363224029541\n",
      "No of Divisions 6360  Additions 561000  Multiplications 561000\n",
      "For  120 x 120  Pivot Time taken 10.464128732681274\n",
      "No of Divisions 7027  Additions 579953  Multiplications 579953\n",
      "For  120 x 120  Non-Pivot Time taken 11.736798286437988\n",
      "No of Divisions 7209  Additions 700299  Multiplications 700299\n",
      "For  130 x 130  Pivot Time taken 12.944558382034302\n",
      "No of Divisions 8187  Additions 733407  Multiplications 733407\n",
      "For  130 x 130  Non-Pivot Time taken 14.153991460800171\n",
      "No of Divisions 8554  Additions 883974  Multiplications 883974\n",
      "For  140 x 140  Pivot Time taken 16.64372181892395\n",
      "No of Divisions 9589  Additions 919369  Multiplications 919369\n",
      "For  140 x 140  Non-Pivot Time taken 19.419996976852417\n",
      "No of Divisions 9797  Additions 1085139  Multiplications 1085139\n",
      "For  150 x 150  Pivot Time taken 19.601343393325806\n",
      "No of Divisions 11019  Additions 1129871  Multiplications 1129871\n",
      "For  150 x 150  Non-Pivot Time taken 23.718244791030884\n",
      "No of Divisions 11180  Additions 1317940  Multiplications 1317940\n",
      "For  160 x 160  Pivot Time taken 23.863797426223755\n",
      "No of Divisions 12671  Additions 1376689  Multiplications 1376689\n",
      "For  160 x 160  Non-Pivot Time taken 29.51336908340454\n",
      "No of Divisions 12285  Additions 1558375  Multiplications 1558375\n",
      "For  170 x 170  Pivot Time taken 28.27402639389038\n",
      "No of Divisions 14283  Additions 1649145  Multiplications 1649145\n",
      "For  170 x 170  Non-Pivot Time taken 36.52729153633118\n",
      "No of Divisions 13695  Additions 1843325  Multiplications 1843325\n",
      "For  180 x 180  Pivot Time taken 33.37803268432617\n",
      "No of Divisions 15916  Additions 1951708  Multiplications 1951708\n",
      "For  180 x 180  Non-Pivot Time taken 40.57618451118469\n",
      "No of Divisions 15470  Additions 2182460  Multiplications 2182460\n",
      "For  190 x 190  Pivot Time taken 39.34855675697327\n",
      "No of Divisions 17827  Additions 2297507  Multiplications 2297507\n",
      "For  190 x 190  Non-Pivot Time taken 50.00580835342407\n",
      "No of Divisions 16819  Additions 2519099  Multiplications 2519099\n",
      "For  200 x 200  Pivot Time taken 47.27924847602844\n",
      "No of Divisions 19632  Additions 2667498  Multiplications 2667498\n",
      "For  200 x 200  Non-Pivot Time taken 57.23829627037048\n",
      "No of Divisions 18864  Additions 2941474  Multiplications 2941474\n",
      "For  210 x 210  Pivot Time taken 53.67973470687866\n"
     ]
    },
    {
     "ename": "KeyboardInterrupt",
     "evalue": "",
     "output_type": "error",
     "traceback": [
      "\u001b[1;31m---------------------------------------------------------------------------\u001b[0m",
      "\u001b[1;31mKeyboardInterrupt\u001b[0m                         Traceback (most recent call last)",
      "\u001b[1;32m<ipython-input-358-b13a92e07729>\u001b[0m in \u001b[0;36m<module>\u001b[1;34m\u001b[0m\n\u001b[0;32m     10\u001b[0m \u001b[1;33m\u001b[0m\u001b[0m\n\u001b[0;32m     11\u001b[0m     \u001b[0mstart_time\u001b[0m\u001b[1;33m=\u001b[0m\u001b[0mtime\u001b[0m\u001b[1;33m.\u001b[0m\u001b[0mtime\u001b[0m\u001b[1;33m(\u001b[0m\u001b[1;33m)\u001b[0m\u001b[1;33m\u001b[0m\u001b[1;33m\u001b[0m\u001b[0m\n\u001b[1;32m---> 12\u001b[1;33m     \u001b[0mguass_elimination\u001b[0m\u001b[1;33m(\u001b[0m\u001b[0mAB\u001b[0m\u001b[1;33m,\u001b[0m\u001b[1;36m5\u001b[0m\u001b[1;33m,\u001b[0m\u001b[1;32mFalse\u001b[0m\u001b[1;33m,\u001b[0m\u001b[1;32mFalse\u001b[0m\u001b[1;33m)\u001b[0m\u001b[1;33m\u001b[0m\u001b[1;33m\u001b[0m\u001b[0m\n\u001b[0m\u001b[0;32m     13\u001b[0m     \u001b[0mend_time\u001b[0m\u001b[1;33m=\u001b[0m\u001b[0mtime\u001b[0m\u001b[1;33m.\u001b[0m\u001b[0mtime\u001b[0m\u001b[1;33m(\u001b[0m\u001b[1;33m)\u001b[0m\u001b[1;33m\u001b[0m\u001b[1;33m\u001b[0m\u001b[0m\n\u001b[0;32m     14\u001b[0m     \u001b[0mprint\u001b[0m\u001b[1;33m(\u001b[0m\u001b[1;34m\"For \"\u001b[0m\u001b[1;33m,\u001b[0m\u001b[0mi\u001b[0m\u001b[1;33m,\u001b[0m\u001b[1;34m\"x\"\u001b[0m\u001b[1;33m,\u001b[0m\u001b[0mi\u001b[0m\u001b[1;33m,\u001b[0m\u001b[1;34m\" Non-Pivot Time taken\"\u001b[0m\u001b[1;33m,\u001b[0m\u001b[0mend_time\u001b[0m\u001b[1;33m-\u001b[0m\u001b[0mstart_time\u001b[0m\u001b[1;33m)\u001b[0m\u001b[1;33m\u001b[0m\u001b[1;33m\u001b[0m\u001b[0m\n",
      "\u001b[1;32m<ipython-input-349-a2b18f4eccd3>\u001b[0m in \u001b[0;36mguass_elimination\u001b[1;34m(A, sig_digits, enable_pivot, debug)\u001b[0m\n\u001b[0;32m     46\u001b[0m                 \u001b[0mprint\u001b[0m\u001b[1;33m(\u001b[0m\u001b[1;34m\"m is\"\u001b[0m\u001b[1;33m,\u001b[0m\u001b[0mm\u001b[0m\u001b[1;33m)\u001b[0m\u001b[1;33m\u001b[0m\u001b[1;33m\u001b[0m\u001b[0m\n\u001b[0;32m     47\u001b[0m             \u001b[1;32mfor\u001b[0m \u001b[0mj\u001b[0m \u001b[1;32min\u001b[0m \u001b[0mrange\u001b[0m \u001b[1;33m(\u001b[0m\u001b[0mi_col\u001b[0m\u001b[1;33m,\u001b[0m\u001b[0mno_of_cols\u001b[0m\u001b[1;33m)\u001b[0m\u001b[1;33m:\u001b[0m\u001b[1;33m\u001b[0m\u001b[1;33m\u001b[0m\u001b[0m\n\u001b[1;32m---> 48\u001b[1;33m                 \u001b[0mA\u001b[0m\u001b[1;33m[\u001b[0m\u001b[0mi_row\u001b[0m\u001b[1;33m]\u001b[0m\u001b[1;33m[\u001b[0m\u001b[0mj\u001b[0m\u001b[1;33m]\u001b[0m\u001b[1;33m=\u001b[0m\u001b[0mA\u001b[0m\u001b[1;33m[\u001b[0m\u001b[0mi_row\u001b[0m\u001b[1;33m]\u001b[0m\u001b[1;33m[\u001b[0m\u001b[0mj\u001b[0m\u001b[1;33m]\u001b[0m \u001b[1;33m-\u001b[0m \u001b[0mround_for_n_sig_figures\u001b[0m\u001b[1;33m(\u001b[0m\u001b[0mA\u001b[0m\u001b[1;33m[\u001b[0m\u001b[0mi_col\u001b[0m\u001b[1;33m]\u001b[0m\u001b[1;33m[\u001b[0m\u001b[0mj\u001b[0m\u001b[1;33m]\u001b[0m\u001b[1;33m*\u001b[0m\u001b[0mm\u001b[0m\u001b[1;33m,\u001b[0m\u001b[0msig_digits\u001b[0m\u001b[1;33m)\u001b[0m   \u001b[1;31m# n multiplications , n substractions\u001b[0m\u001b[1;33m\u001b[0m\u001b[1;33m\u001b[0m\u001b[0m\n\u001b[0m\u001b[0;32m     49\u001b[0m                 \u001b[0mA\u001b[0m\u001b[1;33m[\u001b[0m\u001b[0mi_row\u001b[0m\u001b[1;33m]\u001b[0m\u001b[1;33m[\u001b[0m\u001b[0mj\u001b[0m\u001b[1;33m]\u001b[0m\u001b[1;33m=\u001b[0m\u001b[0mround_for_n_sig_figures\u001b[0m\u001b[1;33m(\u001b[0m\u001b[0mA\u001b[0m\u001b[1;33m[\u001b[0m\u001b[0mi_row\u001b[0m\u001b[1;33m]\u001b[0m\u001b[1;33m[\u001b[0m\u001b[0mj\u001b[0m\u001b[1;33m]\u001b[0m\u001b[1;33m,\u001b[0m\u001b[0msig_digits\u001b[0m\u001b[1;33m)\u001b[0m\u001b[1;33m\u001b[0m\u001b[1;33m\u001b[0m\u001b[0m\n\u001b[0;32m     50\u001b[0m                 \u001b[0mno_of_add\u001b[0m \u001b[1;33m=\u001b[0m \u001b[0mno_of_add\u001b[0m \u001b[1;33m+\u001b[0m \u001b[1;36m1\u001b[0m\u001b[1;33m\u001b[0m\u001b[1;33m\u001b[0m\u001b[0m\n",
      "\u001b[1;31mKeyboardInterrupt\u001b[0m: "
     ]
    }
   ],
   "source": [
    "for i in range(10,310,10):\n",
    "    A=generate_random_A(i)\n",
    "    B=generate_random_B(i)\n",
    "    AB=generate_augemented(A,B)\n",
    "    \n",
    "    start_time=time.time()     \n",
    "    guass_elimination(AB,5,True,False)\n",
    "    end_time=time.time()\n",
    "    print(\"For \",i,\"x\",i,\" Pivot Time taken\",end_time-start_time) \n",
    "    \n",
    "    start_time=time.time()    \n",
    "    guass_elimination(AB,5,False,False)\n",
    "    end_time=time.time()\n",
    "    print(\"For \",i,\"x\",i,\" Non-Pivot Time taken\",end_time-start_time)\n"
   ]
  },
  {
   "cell_type": "code",
   "execution_count": 381,
   "id": "dbe5ff6b",
   "metadata": {},
   "outputs": [],
   "source": [
    "timing_pivot=[0.55474,4.5236,12.944,28.7182,59.53633,94.34855,155.6689,220.29784,331.0074,442.6948]\n",
    "timing_non = [0.67246,4.9149,14.153,28.8637,60.45111,95.97327,156.2639,220.99651,331.5984,443.1852]\n",
    "n= [100,200,300,400,500,600,700,800,900,1000]\n",
    "import numpy\n",
    "timing_pivot_log=numpy.log10(timing_pivot)\n",
    "timing_non_log=numpy.log10(timing_non)\n",
    "n_log=numpy.log10(n)"
   ]
  },
  {
   "cell_type": "code",
   "execution_count": 390,
   "id": "c7417c77",
   "metadata": {},
   "outputs": [
    {
     "data": {
      "text/plain": [
       "Text(0, 0.5, 'Log(Time(s))')"
      ]
     },
     "execution_count": 390,
     "metadata": {},
     "output_type": "execute_result"
    },
    {
     "data": {
      "image/png": "[encoded data removed]",
      "text/plain": [
       "<Figure size 432x288 with 1 Axes>"
      ]
     },
     "metadata": {
      "needs_background": "light"
     },
     "output_type": "display_data"
    }
   ],
   "source": [
    "import matplotlib.pyplot as plt\n",
    "plt.scatter(n_log,timing_pivot_log,label=\"Pivoting\")\n",
    "plt.title(\"log(n) vs log(time taken with pivoting)\")\n",
    "plt.xlabel(\"log(n)\")\n",
    "plt.ylabel(\"Log(Time(s))\")"
   ]
  },
  {
   "cell_type": "code",
   "execution_count": 391,
   "id": "a12ba952",
   "metadata": {},
   "outputs": [
    {
     "data": {
      "text/plain": [
       "<matplotlib.legend.Legend at 0x14dc850bdf0>"
      ]
     },
     "execution_count": 391,
     "metadata": {},
     "output_type": "execute_result"
    },
    {
     "data": {
      "image/png": "[encoded data removed]",
      "text/plain": [
       "<Figure size 432x288 with 1 Axes>"
      ]
     },
     "metadata": {
      "needs_background": "light"
     },
     "output_type": "display_data"
    }
   ],
   "source": [
    "plt.scatter(n_log,timing_non_log,label=\"Non-Pivoting\")\n",
    "plt.scatter(n_log,timing_pivot_log)\n",
    "plt.title(\"log(n) vs log(time taken without pivoting)\")\n",
    "plt.xlabel(\"log(n)\")\n",
    "plt.ylabel(\"Log(Time(s))\")\n",
    "plt.legend()"
   ]
  }
 ],
 "metadata": {
  "kernelspec": {
   "display_name": "Python 3",
   "language": "python",
   "name": "python3"
  },
  "language_info": {
   "codemirror_mode": {
    "name": "ipython",
    "version": 3
   },
   "file_extension": ".py",
   "mimetype": "text/x-python",
   "name": "python",
   "nbconvert_exporter": "python",
   "pygments_lexer": "ipython3",
   "version": "3.8.8"
  }
 },
 "nbformat": 4,
 "nbformat_minor": 5
}
